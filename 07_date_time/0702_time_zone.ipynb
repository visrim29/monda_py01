{
 "cells": [
  {
   "cell_type": "markdown",
   "metadata": {},
   "source": [
    "### Pirma užduotis\n",
    "\n",
    "Parašykite programą, kuri išvestų sąrašą visų laiko zonų, kurių pavadinime yra \"America\"."
   ]
  },
  {
   "cell_type": "code",
   "execution_count": null,
   "metadata": {},
   "outputs": [],
   "source": [
    "from zoneinfo import available_timezones\n",
    "\n",
    "america_time_zones = []\n",
    "\n",
    "for tz in available_timezones():\n",
    "    if 'America' in tz:\n",
    "        america_time_zones.append(tz)\n",
    "\n",
    "for time_zone in america_time_zones:\n",
    "    print(time_zone)"
   ]
  },
  {
   "cell_type": "markdown",
   "metadata": {},
   "source": [
    "### Antra užduotis\n",
    "\n",
    "Parašykite programą, kuri iš vartotojo paprašytų laiko HH:MM(:SS) formatu, kur sekundės nėra būtinos. Tada paprašykite įvesti laiko zoną. Išspausdinkite įvestą laiką šiomis laiko zonomis: Sydney'aus, Dubai'aus, Vilniaus, London'o, New York'o ir Los Angeles."
   ]
  },
  {
   "cell_type": "code",
   "execution_count": 6,
   "metadata": {},
   "outputs": [],
   "source": [
    "from datetime import datetime\n",
    "from zoneinfo import ZoneInfo\n",
    "\n",
    "ivestas_laikas = input(\"Įveskite laika formatu HH:MM(:SS), sekundes nera butinos\")\n",
    "formatas = \"%H:%M\"\n",
    "vartotojo_laiko_zona = input(\"iveskite laiko zona pvz.:\\\"America/Barbados\\\"\")\n",
    "\n",
    "if len(ivestas_laikas) > 5:\n",
    "    formatas = \"%H:%M:%S\"\n",
    "laikas = datetime.strptime(ivestas_laikas, formatas)\n",
    "\n",
    "sydney = laikas.replace(tzinfo=ZoneInfo(vartotojo_laiko_zona)).astimezone(ZoneInfo(\"Australia/Sydney\"))\n",
    "dubai = laikas.replace(tzinfo=ZoneInfo(vartotojo_laiko_zona)).astimezone(ZoneInfo(\"Asia/Dubai\"))\n",
    "vilnius = laikas.replace(tzinfo=ZoneInfo(vartotojo_laiko_zona)).astimezone(ZoneInfo(\"Europe/Vilnius\"))\n",
    "london = laikas.replace(tzinfo=ZoneInfo(vartotojo_laiko_zona)).astimezone(ZoneInfo(\"Europe/London\"))\n",
    "new_york = laikas.replace(tzinfo=ZoneInfo(vartotojo_laiko_zona)).astimezone(ZoneInfo(\"America/New_York\"))\n",
    "los_angeles = laikas.replace(tzinfo=ZoneInfo(vartotojo_laiko_zona)).astimezone(ZoneInfo(\"America/Los_Angeles\"))\n",
    "\n",
    "print(f\"\"\"Jusu laikas: {laikas.time()}, {vartotojo_laiko_zona}\n",
    "Sydnejaus laikas: {sydney.time()}, Australia/Sydney\n",
    "Dubajaus laikas: {dubai.time()}, Asia/Dubai\n",
    "Vilniaus laikas: {vilnius.time()}, Europe/Vilnius\n",
    "Londono laikas: {london.time()}, Europe/London\n",
    "New Yorko laikas: {new_york.time()}, America/New York\n",
    "Los Angeles laikas: {los_angeles.time()}, America/ Los Angeles\"\"\")"
   ]
  }
 ],
 "metadata": {
  "kernelspec": {
   "display_name": "venv",
   "language": "python",
   "name": "python3"
  },
  "language_info": {
   "codemirror_mode": {
    "name": "ipython",
    "version": 3
   },
   "file_extension": ".py",
   "mimetype": "text/x-python",
   "name": "python",
   "nbconvert_exporter": "python",
   "pygments_lexer": "ipython3",
   "version": "3.11.7"
  }
 },
 "nbformat": 4,
 "nbformat_minor": 2
}
