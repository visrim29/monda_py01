{
 "cells": [
  {
   "cell_type": "markdown",
   "metadata": {},
   "source": [
    "Pirma užduotis\n",
    "\n",
    "Parašykite programą, kuri pateiktų dabartinį laiką, bet tik minutes ir sekundes."
   ]
  },
  {
   "cell_type": "code",
   "execution_count": 3,
   "metadata": {},
   "outputs": [
    {
     "name": "stdout",
     "output_type": "stream",
     "text": [
      "37:37\n"
     ]
    }
   ],
   "source": [
    "from datetime import datetime\n",
    "\n",
    "now = datetime.now()\n",
    "format_string = '%M:%S'\n",
    "\n",
    "time_now = now.strftime(format_string)\n",
    "print(time_now)"
   ]
  },
  {
   "cell_type": "markdown",
   "metadata": {},
   "source": [
    "Antra užduotis\n",
    "\n",
    "Sukurkite funkciją, kuri priimtų gimimo datą kaip stringą (formatu \"%Y-%m-%d\") ir grąžintų, kiek dienų liko iki jūsų gimtadienio"
   ]
  },
  {
   "cell_type": "code",
   "execution_count": 11,
   "metadata": {},
   "outputs": [
    {
     "name": "stdout",
     "output_type": "stream",
     "text": [
      "Time until birthday: 200\n"
     ]
    }
   ],
   "source": [
    "from datetime import datetime\n",
    "\n",
    "def time_left(birth_date):\n",
    "    formatted_birth_date = datetime.strptime(birth_date, \"%Y-%m-%d\")\n",
    "    now = datetime.now()\n",
    "    birthday = formatted_birth_date.replace(year=now.year)\n",
    "\n",
    "    if birthday < now:\n",
    "        birthday = birthday.replace(year=now.year + 1)\n",
    "\n",
    "    difference = birthday - now\n",
    "    return difference.days\n",
    "\n",
    "birth_date = '1994-08-04'\n",
    "print(f'Time until birthday: {time_left(birth_date)}')\n",
    "\n",
    "# birthday = datetime(2024, 8, 4)\n",
    "# now = datetime.now()\n",
    "# time_left = birthday - now\n",
    "# format_string = '%Y-%m-%d'\n",
    "\n",
    "# formatted_birthday = birthday.strftime(format_string)\n",
    "# formatted_now = now.strftime(format_string)\n",
    "\n",
    "# print(time_left)"
   ]
  },
  {
   "cell_type": "markdown",
   "metadata": {},
   "source": [
    "Trečia užduotis\n",
    "\n",
    "Parašykite programą, kuri priimtų datą ir laiką stringo formatu (pavyzdžiui, \"2023-05-21 15:30\"), pridėtų prie to 48 valandas ir grąžintų naują datą ir laiką stringo formatu."
   ]
  },
  {
   "cell_type": "code",
   "execution_count": 19,
   "metadata": {},
   "outputs": [
    {
     "data": {
      "text/plain": [
       "'2024-01-18 09:49'"
      ]
     },
     "execution_count": 19,
     "metadata": {},
     "output_type": "execute_result"
    }
   ],
   "source": [
    "from datetime import datetime\n",
    "from datetime import timedelta\n",
    "\n",
    "def new_date_time(date_time):\n",
    "    format_string = '%Y-%m-%d %H:%M'\n",
    "    date_object = datetime.strptime(date_time, format_string)\n",
    "    new_date_object = date_object + timedelta(hours=48)\n",
    "    add_48_hours = new_date_object.strftime(format_string)\n",
    "    return add_48_hours\n",
    "\n",
    "date_time = '2024-01-16 09:49'\n",
    "new_date_time(date_time)"
   ]
  },
  {
   "cell_type": "markdown",
   "metadata": {},
   "source": [
    "Ketvirta užduotis\n",
    "\n",
    "Parašykite programą, kuri priimtų du laikotarpius kaip timestamp'us ir grąžintų laikotarpių skirtumą dienomis."
   ]
  },
  {
   "cell_type": "code",
   "execution_count": 31,
   "metadata": {},
   "outputs": [
    {
     "name": "stdout",
     "output_type": "stream",
     "text": [
      "Time difference: 639 days\n"
     ]
    }
   ],
   "source": [
    "from datetime import datetime\n",
    "import time\n",
    "\n",
    "def time_stamp_difference(time_stamp_1, time_stamp_2):\n",
    "    date_object_1 = datetime.fromtimestamp(time_stamp_1)\n",
    "    date_object_2 = datetime.fromtimestamp(time_stamp_2)\n",
    "    time_difference = date_object_1 - date_object_2\n",
    "    return time_difference.days\n",
    "\n",
    "time_stamp_1 = 1671395400\n",
    "time_stamp_2 = 1616161616\n",
    "\n",
    "print(f'Time difference: {time_stamp_difference(time_stamp_1, time_stamp_2)} days')\n"
   ]
  },
  {
   "cell_type": "markdown",
   "metadata": {},
   "source": [
    "Penkta užduotis\n",
    "\n",
    "Sukurkite funkciją, kuri priimtų datą kaip stringą (pavyzdžiui, \"2023-06-01\") ir grąžintų, kokia savaitės diena yra ta data (pavyzdžiui, \"Pirmadienis\", \"Antradienis\" ir tt.)."
   ]
  },
  {
   "cell_type": "code",
   "execution_count": 33,
   "metadata": {},
   "outputs": [
    {
     "name": "stdout",
     "output_type": "stream",
     "text": [
      "Tuesday\n"
     ]
    }
   ],
   "source": [
    "from datetime import datetime\n",
    "\n",
    "def week_day(date_string):\n",
    "    format_string = '%Y-%m-%d'\n",
    "    date_object = datetime.strptime(date_string, format_string)\n",
    "    weekday = ['Monday', 'Tuesday', 'Wednesday', 'Thursday', 'Friday', 'Saturday', 'Sunday']\n",
    "    return weekday[date_object.weekday()]\n",
    "\n",
    "date_string = '2024-01-16'\n",
    "print(f'{week_day(date_string)}')\n"
   ]
  }
 ],
 "metadata": {
  "kernelspec": {
   "display_name": "venv",
   "language": "python",
   "name": "python3"
  },
  "language_info": {
   "codemirror_mode": {
    "name": "ipython",
    "version": 3
   },
   "file_extension": ".py",
   "mimetype": "text/x-python",
   "name": "python",
   "nbconvert_exporter": "python",
   "pygments_lexer": "ipython3",
   "version": "3.11.7"
  }
 },
 "nbformat": 4,
 "nbformat_minor": 2
}
