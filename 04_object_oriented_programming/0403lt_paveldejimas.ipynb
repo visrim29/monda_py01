{
 "cells": [
  {
   "cell_type": "markdown",
   "metadata": {},
   "source": [
    "# Paveldėjimas\n",
    "\n",
    "Viena iš objektinio programavimo savybių yra paveldėjimas. Tai reiškia, kad klasė gali paveldėti kitos klasės savybes ir metodus. Paveldėjimas padeda sumažinti kodą, nes leidžia sukurti naujas klases, kurios naudoja savybes ir metodus iš jau egzistuojančių klasių."
   ]
  },
  {
   "cell_type": "markdown",
   "metadata": {},
   "source": [
    "- Paveldėjimas su Elektriniu Automobiliu\n",
    "    - \"Pavyzdžiui, `ElektrinisAutomobilis` gali būti išvestinė klasė, paveldėjusi savybes iš bendresnės `Automobilis` klasės.\"\n",
    "\n",
    "- Bazinė Klasė: Automobilis\n",
    "    - Tarkime, turime bazinę klasę `Automobilis`, kuri apibrėžia kelis metodus ir atributus, bendrus visiems automobiliams."
   ]
  },
  {
   "cell_type": "code",
   "execution_count": 1,
   "metadata": {},
   "outputs": [],
   "source": [
    "class Automobilis: \n",
    "    kuro_tipas = \"benzinas\"\n",
    "\n",
    "    def __init__(self, marke, modelis, metai=\"2024\", spalva=\"pilka\"): \n",
    "        self.marke = marke \n",
    "        self.modelis = modelis\n",
    "        self.__metai = metai\n",
    "        self.__spalva = spalva\n",
    "\n",
    "    def gauti_metus(self):\n",
    "        return self.__metai\n",
    "    \n",
    "    def gauti_spalva(self):\n",
    "        return self.__spalva\n",
    "\n",
    "    def __pakeisti_spalva(self, nauja_spalva):\n",
    "        self.__spalva = nauja_spalva\n",
    "\n",
    "    def perdazyti(self, nauja_spalva):\n",
    "        self.__pakeisti_spalva(nauja_spalva)\n",
    "\n",
    "    def __str__(self) -> str:\n",
    "        return f\"{self.marke} {self.modelis}, {self.gauti_metus()}, {self.gauti_spalva()}, {self.kuro_tipas}\""
   ]
  },
  {
   "cell_type": "code",
   "execution_count": 2,
   "metadata": {},
   "outputs": [
    {
     "name": "stdout",
     "output_type": "stream",
     "text": [
      "Mercedes\n",
      "C-Class\n",
      "2024\n",
      "pilka\n"
     ]
    }
   ],
   "source": [
    "trecias_automobilis = Automobilis('Mercedes', 'C-Class')\n",
    "\n",
    "print(trecias_automobilis)"
   ]
  },
  {
   "cell_type": "markdown",
   "metadata": {},
   "source": [
    "### Išvestinė Klasė: ElektrinisAutomobilis\n",
    "\n",
    "`ElektrinisAutomobilis` yra išvestinė klasė, kuri paveldi savybes iš `Automobilis`, bet taip pat turi specifinių savybių, būdingų elektriniams automobiliams."
   ]
  },
  {
   "cell_type": "code",
   "execution_count": 3,
   "metadata": {},
   "outputs": [],
   "source": [
    "class Elektromobilis(Automobilis):\n",
    "    kuro_tipas = 'elektra'\n",
    "\n",
    "    def max_greitis(self):\n",
    "        print('Šis automobilis gali važiuoti iki 350 km/h')\n",
    "        return 350\n",
    "\n",
    "tesla_sp = Elektromobilis('Tesla', 'Model S Plaid', metai=2022, spalva='raudona')"
   ]
  },
  {
   "cell_type": "code",
   "execution_count": 4,
   "metadata": {},
   "outputs": [
    {
     "name": "stdout",
     "output_type": "stream",
     "text": [
      "Tesla\n",
      "Model S Plaid\n",
      "2022\n",
      "raudona\n",
      "pilka\n",
      "elektra\n",
      "Šis automobilis gali važiuoti iki 350 km/h\n"
     ]
    },
    {
     "data": {
      "text/plain": [
       "350"
      ]
     },
     "execution_count": 4,
     "metadata": {},
     "output_type": "execute_result"
    }
   ],
   "source": [
    "print(tesla_sp)\n",
    "tesla_sp.perdazyti(\"pilka\")\n",
    "print(tesla_sp.gauti_spalva()) # pilka\n",
    "print(tesla_sp.kuro_tipas) # elektra\n",
    "tesla_sp.max_greitis() # Šis automobilis gali važiuoti iki 350 km/h"
   ]
  },
  {
   "cell_type": "markdown",
   "metadata": {},
   "source": [
    "### Pirma Užduotis: Gyvūnų Hierarchija\n",
    "\n",
    "### Užduoties Aprašymas\n",
    "\n",
    "Sukurkite bazinę klasę `Gyvunas` ir išvestines klases `Kate` bei `Suo`, kurios paveldės bazinės klasės atributus ir metodus. Kiekviena iš šių išvestinių klasių turi turėti savo unikalius `balsas` ir `judeti` metodus.\n",
    "\n",
    "Klasės Specifikacijos:\n",
    "\n",
    "- Bazinė Klasė `Gyvunas`\n",
    "\n",
    "    - Turi būti sukurta klasė `Gyvunas`.\n",
    "    - Klasė turi turėti bent vieną bendrą atributą, pavyzdžiui, `vardas`.\n",
    "    - Klasė gali turėti bendrus metodus, kurie vėliau gali būti perdefiniuoti.\n",
    "\n",
    "- Išvestinė Klasė `Kate`\n",
    "\n",
    "    - Klasė `Kate` paveldi iš `Gyvunas`.\n",
    "    - Turi turėti metodą `balsas`, kuris grąžina tekstą, vaizduojantį katės miaukimą.\n",
    "    - Turi turėti metodą `judeti`, kuris grąžina tekstą, vaizduojantį katės judėjimą.\n",
    "\n",
    "- Išvestinė Klasė `Suo`\n",
    "\n",
    "    - Klasė `Suo` paveldi iš `Gyvunas`.\n",
    "    - Turi turėti metodą `balsas`, kuris grąžina tekstą, vaizduojantį šuns lojimą.\n",
    "    - Turi turėti metodą `judeti`, kuris grąžina tekstą, vaizduojantį šuns bėgiojimą.\n",
    "\n",
    "- Objektų Sukūrimas ir Jų Metodų Iškvietimas\n",
    "\n",
    "    - Sukurkite kelis `Kate` ir `Suo` klasių objektus.\n",
    "    - Priskirkite kiekvienam objektui vardą.\n",
    "    - Iškvieskite kiekvieno objekto `balsas` ir `judeti` metodus."
   ]
  },
  {
   "cell_type": "code",
   "execution_count": 34,
   "metadata": {},
   "outputs": [
    {
     "name": "stdout",
     "output_type": "stream",
     "text": [
      "Gyvūno vardas: Pūkis\n",
      "Gyvūno amžius: 7\n",
      "Gyvūno spalva: Ryža\n",
      "\n",
      "Pūkis sako: Miau Miau Miau\n",
      "Pūkis eina: Tep Tep, Tep Tep\n",
      "\n",
      "Gyvūno vardas: Kicius\n",
      "Gyvūno amžius: 5\n",
      "Gyvūno spalva: Juodai-Balta\n",
      "\n",
      "Kicius sako: Miau Miau Miau\n",
      "Kicius eina: Tep Tep, Tep Tep\n",
      "\n",
      "Gyvūno vardas: Ramzis\n",
      "Gyvūno amžius: 5\n",
      "Gyvūno spalva: Ruda\n",
      "\n",
      "Ramzis sako: Au Au Au\n",
      "Ramzis bėga: Tepu Tepu Tep Tep\n",
      "\n"
     ]
    }
   ],
   "source": [
    "class Gyvunas:\n",
    "    def __init__(self, vardas, amzius, spalva):\n",
    "        self.vardas = vardas\n",
    "        self.__amzius = amzius\n",
    "        self.spalva = spalva\n",
    "    \n",
    "    def balsas(self):\n",
    "        pass\n",
    "\n",
    "    def judeti(self):\n",
    "        pass\n",
    "\n",
    "    def gauti_savybes(self):\n",
    "        print(f'Gyvūno vardas: {self.vardas}\\nGyvūno amžius: {self.__amzius}\\nGyvūno spalva: {self.spalva}\\n')\n",
    "    \n",
    "    def pakeisti_amziu(self, naujas_amzius):\n",
    "        self.__amzius = naujas_amzius\n",
    "\n",
    "class Kate(Gyvunas):\n",
    "    def balsas(self):\n",
    "        print(f'{self.vardas} sako: Miau Miau Miau')\n",
    "    \n",
    "    def judeti(self):\n",
    "        print(f'{self.vardas} eina: Tep Tep, Tep Tep\\n')\n",
    "\n",
    "class Suo(Gyvunas):\n",
    "    def balsas(self):\n",
    "        print(f'{self.vardas} sako: Au Au Au')\n",
    "    \n",
    "    def judeti(self):\n",
    "        print(f'{self.vardas} bėga: Tepu Tepu Tep Tep\\n')\n",
    "    \n",
    "pukis = Kate('Pūkis', 7, 'Ryža')\n",
    "kicius = Kate('Kicius', 5, 'Juodai-Balta')\n",
    "ramzis = Suo('Ramzis', 5, 'Ruda')\n",
    "\n",
    "pukis.gauti_savybes()\n",
    "pukis.balsas()\n",
    "pukis.judeti()\n",
    "\n",
    "kicius.gauti_savybes()\n",
    "kicius.balsas()\n",
    "kicius.judeti()\n",
    "\n",
    "ramzis.gauti_savybes()\n",
    "ramzis.balsas()\n",
    "ramzis.judeti()"
   ]
  },
  {
   "cell_type": "markdown",
   "metadata": {},
   "source": [
    "---\n",
    "\n",
    "## Objekto priklausymo klasei patikrinimas"
   ]
  },
  {
   "cell_type": "markdown",
   "metadata": {},
   "source": [
    "- `isinstance` yra funkcija, kuri leidžia patikrinti, ar objektas priklauso tam tikrai klasei \n",
    "- Ši funkcija grąžina `True`, jei objektas yra tos klasės objektas arba objekto klasė paveldi nurodytą klasę, ir `False` kitu atveju. Pvz.:"
   ]
  },
  {
   "cell_type": "code",
   "execution_count": null,
   "metadata": {},
   "outputs": [],
   "source": [
    "tesla_sp = Elektromobilis('Tesla', 'Model S Plaid')\n",
    "audi = Automobilis(\"Audi\", \"A4\")\n",
    "\n",
    "print(isinstance(audi, Automobilis)) # True\n",
    "print(isinstance(tesla_sp, Automobilis)) # True\n",
    "print(isinstance(audi, Elektromobilis)) # False\n",
    "print(isinstance(tesla_sp, Elektromobilis)) # True"
   ]
  },
  {
   "cell_type": "code",
   "execution_count": null,
   "metadata": {},
   "outputs": [],
   "source": [
    "print(type(tesla_sp) == Elektromobilis)\n",
    "print(type(tesla_sp) == Automobilis)"
   ]
  },
  {
   "cell_type": "markdown",
   "metadata": {},
   "source": [
    "### Antra užduotis: objektų priklausomybę esančioms klasėms\n",
    "\n",
    "- Patikrinkite pirmoje užduotyje sukurtų objektų priklausomybę esančioms klasėms."
   ]
  },
  {
   "cell_type": "code",
   "execution_count": 30,
   "metadata": {},
   "outputs": [
    {
     "name": "stdout",
     "output_type": "stream",
     "text": [
      "True\n",
      "False\n",
      "True\n",
      "False\n"
     ]
    }
   ],
   "source": [
    "print(isinstance(pukis, Gyvunas))\n",
    "print(isinstance(kicius, Suo))\n",
    "print(isinstance(ramzis, Suo))\n",
    "print(isinstance(ramzis, Kate))"
   ]
  }
 ],
 "metadata": {
  "kernelspec": {
   "display_name": "venv",
   "language": "python",
   "name": "python3"
  },
  "language_info": {
   "codemirror_mode": {
    "name": "ipython",
    "version": 3
   },
   "file_extension": ".py",
   "mimetype": "text/x-python",
   "name": "python",
   "nbconvert_exporter": "python",
   "pygments_lexer": "ipython3",
   "version": "3.11.7"
  }
 },
 "nbformat": 4,
 "nbformat_minor": 2
}
