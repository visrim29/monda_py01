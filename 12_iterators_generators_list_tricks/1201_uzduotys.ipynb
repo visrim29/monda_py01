{
 "cells": [
  {
   "cell_type": "markdown",
   "metadata": {},
   "source": [
    "## Pirma užduotis\n",
    "\n",
    "Sukurkite programą, kuri naudoja lambda, map() ir filter() funkcijas, kad atrinktų sąrašo elementus, didesnius už 10, ir padidintų juos dvigubai. Palyginkite šį rezultatą su tuo, ką gautumėte naudodami \"list comprehension\"."
   ]
  },
  {
   "cell_type": "code",
   "execution_count": 1,
   "metadata": {},
   "outputs": [
    {
     "name": "stdout",
     "output_type": "stream",
     "text": [
      "[24, 36, 30]\n",
      "[24, 36, 30]\n"
     ]
    }
   ],
   "source": [
    "sarasas = [5, 12, 7, 18, 4, 15]\n",
    "\n",
    "result = map(lambda x: x * 2, filter(lambda x: x > 10, sarasas))\n",
    "print(list(result))\n",
    "\n",
    "result = [x * 2 for x in sarasas if x > 10]\n",
    "print(result)"
   ]
  },
  {
   "cell_type": "markdown",
   "metadata": {},
   "source": [
    "## Antra užduotis\n",
    "\n",
    "Parašykite programą, kuri naudoja reduce() funkciją, kad rastų sąrašo elementų sandaugą."
   ]
  },
  {
   "cell_type": "code",
   "execution_count": 2,
   "metadata": {},
   "outputs": [
    {
     "name": "stdout",
     "output_type": "stream",
     "text": [
      "120\n"
     ]
    }
   ],
   "source": [
    "from functools import reduce\n",
    "\n",
    "sarasas = [1, 2, 3, 4, 5]\n",
    "\n",
    "sandauga = reduce(lambda x, y: x * y, sarasas)\n",
    "print(sandauga)"
   ]
  },
  {
   "cell_type": "markdown",
   "metadata": {},
   "source": [
    "## Trečia užduotis\n",
    "\n",
    "Naudodamiesi statistics moduliu, apskaičiuokite ir išveskite sąrašo elementų sumą, vidurkį, medianą, mažiausią ir didžiausią elementą."
   ]
  },
  {
   "cell_type": "code",
   "execution_count": 3,
   "metadata": {},
   "outputs": [
    {
     "name": "stdout",
     "output_type": "stream",
     "text": [
      "15\n",
      "3\n",
      "3\n",
      "1\n",
      "5\n"
     ]
    }
   ],
   "source": [
    "import statistics\n",
    "\n",
    "sarasas = [1, 2, 3, 4, 5]\n",
    "\n",
    "print(sum(sarasas))\n",
    "print(statistics.mean(sarasas))\n",
    "print(statistics.median(sarasas))\n",
    "print(min(sarasas))\n",
    "print(max(sarasas))"
   ]
  },
  {
   "cell_type": "markdown",
   "metadata": {},
   "source": [
    "## Ketvirta užduotis\n",
    "\n",
    "Sukurkite programą, kuri naudoja sort() arba sorted() funkcijas, kad rūšiuotų sąrašą skaičių pagal jų liekanas dalinant iš 3 (atsižvelgiant į key parametrą)."
   ]
  },
  {
   "cell_type": "code",
   "execution_count": 4,
   "metadata": {},
   "outputs": [
    {
     "name": "stdout",
     "output_type": "stream",
     "text": [
      "[3, 9, 1, 4, 1, 5, 2]\n"
     ]
    }
   ],
   "source": [
    "sarasas = [3, 1, 4, 1, 5, 9, 2]\n",
    "\n",
    "result = sorted(sarasas, key=lambda x: x % 3)\n",
    "print(result)"
   ]
  },
  {
   "cell_type": "markdown",
   "metadata": {},
   "source": [
    "## Penkta užduotis\n",
    "\n",
    "Sukurkite programą, kuri naudoja lambda, filter() ir reduce() funkcijas, kad apskaičiuotų vidurkį tų sąrašo skaičių, kurie yra lyginiai. Palyginkite šį rezultatą su tuo, ką gautumėte naudodami \"list comprehension\"."
   ]
  },
  {
   "cell_type": "code",
   "execution_count": 5,
   "metadata": {},
   "outputs": [
    {
     "name": "stdout",
     "output_type": "stream",
     "text": [
      "3.0\n",
      "3.0\n"
     ]
    }
   ],
   "source": [
    "from functools import reduce\n",
    "\n",
    "sarasas = [1, 2, 3, 4, 5]\n",
    "\n",
    "result = reduce(lambda x, y: x + y, filter(lambda x: x % 2 == 0, sarasas)) / len(list(filter(lambda x: x % 2 == 0, sarasas)))\n",
    "print(result)\n",
    "\n",
    "result = sum(x for x in sarasas if x % 2 == 0) / len([x for x in sarasas if x % 2 == 0])\n",
    "print(result)"
   ]
  }
 ],
 "metadata": {
  "kernelspec": {
   "display_name": "venv",
   "language": "python",
   "name": "python3"
  },
  "language_info": {
   "codemirror_mode": {
    "name": "ipython",
    "version": 3
   },
   "file_extension": ".py",
   "mimetype": "text/x-python",
   "name": "python",
   "nbconvert_exporter": "python",
   "pygments_lexer": "ipython3",
   "version": "3.11.7"
  }
 },
 "nbformat": 4,
 "nbformat_minor": 2
}
