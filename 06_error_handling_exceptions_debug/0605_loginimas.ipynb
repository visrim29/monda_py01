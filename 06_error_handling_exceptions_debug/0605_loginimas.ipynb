{
 "cells": [
  {
   "cell_type": "markdown",
   "metadata": {},
   "source": [
    "## Pirma užduotis\n",
    "\n",
    "Patobulinkite savo šaldytuvo programą:\n",
    "\n",
    "Gaudykite visas galimas vartotojo sąsajos klaidos, ypač įvedant kiekius.\n",
    "Šaldytuvo saugojimo į failą/ištraukimo iš failo klaidų gaudymą galite įgyvendinti per try except.\n",
    "Sukurkite loggerį, kuris į failą kauptų informaciją apie įdėtus ir išimtus produktus su kiekiais, ir veiksmo data/laiku."
   ]
  },
  {
   "cell_type": "code",
   "execution_count": null,
   "metadata": {},
   "outputs": [],
   "source": []
  },
  {
   "cell_type": "markdown",
   "metadata": {},
   "source": [
    "## Antra užduotis\n",
    "\n",
    "Patobulinkite savo biudžeto programą:\n",
    "\n",
    "gaudykite klaidą, vartotojui įvedant neteisingus parametrus kuriant pajamų arba išlaidų įrašus.\n",
    "sukurkite loggerį, kuris logintų, kada vartotojas bando išleisti daugiau pinigų, negu turi."
   ]
  },
  {
   "cell_type": "code",
   "execution_count": null,
   "metadata": {},
   "outputs": [],
   "source": []
  }
 ],
 "metadata": {
  "language_info": {
   "name": "python"
  }
 },
 "nbformat": 4,
 "nbformat_minor": 2
}
