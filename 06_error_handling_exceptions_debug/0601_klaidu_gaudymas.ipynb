{
 "cells": [
  {
   "cell_type": "markdown",
   "metadata": {},
   "source": [
    "## Pirma užduotis\n",
    "\n",
    "Parašykite programą, kuri leidžia vartotojui įvesti du skaičius ir atspausdina jų dalmenį.\n",
    "Jei vartotojas įveda tekstą arba dalina iš nulio, programa turi sugauti klaidą ir atspausdinti klaidos pranešimą."
   ]
  },
  {
   "cell_type": "code",
   "execution_count": 6,
   "metadata": {},
   "outputs": [
    {
     "name": "stdout",
     "output_type": "stream",
     "text": [
      "Skaičiaus 999.0 ir skaičiaus 11.0 dalmuo yra 90.8\n"
     ]
    }
   ],
   "source": [
    "try:\n",
    "    skaicius_a = float(input('Įveskite dalinį'))\n",
    "    skaicius_b = float(input('Įveskite daliklį'))\n",
    "    dalmuo = skaicius_a / skaicius_b\n",
    "except ValueError:\n",
    "    print('KLAIDA: netinkamas skaičiaus formatas')\n",
    "except ZeroDivisionError:\n",
    "    print('KLAIDA: dalyba iš nulio negalima')\n",
    "else:\n",
    "    print(f'Skaičiaus {skaicius_a} ir skaičiaus {skaicius_b} dalmuo yra {dalmuo:.1f}')"
   ]
  }
 ],
 "metadata": {
  "kernelspec": {
   "display_name": "venv",
   "language": "python",
   "name": "python3"
  },
  "language_info": {
   "codemirror_mode": {
    "name": "ipython",
    "version": 3
   },
   "file_extension": ".py",
   "mimetype": "text/x-python",
   "name": "python",
   "nbconvert_exporter": "python",
   "pygments_lexer": "ipython3",
   "version": "3.11.7"
  }
 },
 "nbformat": 4,
 "nbformat_minor": 2
}
