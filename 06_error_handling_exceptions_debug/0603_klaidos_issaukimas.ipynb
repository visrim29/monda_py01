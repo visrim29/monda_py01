{
 "cells": [
  {
   "cell_type": "markdown",
   "metadata": {},
   "source": [
    "## Pirma užduotis\n",
    "\n",
    "Parašykite programą, kuri leistų vartotojui įvesti teigiamą skaičių.\n",
    "Programa turi sugauti galimas klaidas."
   ]
  },
  {
   "cell_type": "code",
   "execution_count": 11,
   "metadata": {},
   "outputs": [
    {
     "name": "stdout",
     "output_type": "stream",
     "text": [
      "Jūsų įvestas skaičius 10.0 yra tinkamas\n"
     ]
    }
   ],
   "source": [
    "def teigiamas_skaicius():\n",
    "    try:\n",
    "        skaicius = float(input('Įveskite teigiamą skaičių'))\n",
    "        if skaicius <= 0:\n",
    "            raise ValueError('Įvestas netinkamas skaičius')\n",
    "        else:\n",
    "            print(f'Jūsų įvestas skaičius {skaicius} yra tinkamas')\n",
    "    except ValueError as e:\n",
    "        print('KLAIDA: ', e)\n",
    "\n",
    "teigiamas_skaicius()\n"
   ]
  }
 ],
 "metadata": {
  "kernelspec": {
   "display_name": "venv",
   "language": "python",
   "name": "python3"
  },
  "language_info": {
   "codemirror_mode": {
    "name": "ipython",
    "version": 3
   },
   "file_extension": ".py",
   "mimetype": "text/x-python",
   "name": "python",
   "nbconvert_exporter": "python",
   "pygments_lexer": "ipython3",
   "version": "3.11.7"
  }
 },
 "nbformat": 4,
 "nbformat_minor": 2
}
