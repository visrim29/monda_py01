{
 "cells": [
  {
   "cell_type": "markdown",
   "metadata": {},
   "source": [
    "## Pirma užduotis\n",
    "\n",
    "Sukurkite klasę Studentas su atributais vardas, pavarde ir amzius. Pridėkite tris metodus:\n",
    "\n",
    "pilnas_vardas(): Grąžina pilną studento vardą, naudojant @property dekoratorių.\n",
    "ar_pilnametis(): Grąžina True, jei studento amžius yra didesnis arba lygus 18, ir False, jei ne. Naudokite @staticmethod dekoratorių.\n",
    "sukurti_studenta(cls, vardas: str, pavarde: str, amzius: int): Grąžina naują Studentas objektą. Naudokite @classmethod dekoratorių.\n",
    "Sukurkite keletą studentų objektų, naudojant klasės metodą sukurti_studenta(), ir išbandykite visus metodus."
   ]
  },
  {
   "cell_type": "code",
   "execution_count": 1,
   "metadata": {},
   "outputs": [],
   "source": [
    "class Studentas():\n",
    "    def __init__(self, vardas, pavarde, amzius):\n",
    "        self.vardas = vardas\n",
    "        self.pavarde = pavarde\n",
    "        self.amzius = amzius\n",
    "\n",
    "    @property\n",
    "    def pilnas_vardas(self):\n",
    "        return f'{self.vardas} {self.pavarde}'\n",
    "    \n",
    "    @staticmethod\n",
    "    def ar_pilnametis(amzius):\n",
    "        if amzius >= 18:\n",
    "            return True\n",
    "        else:\n",
    "            return False\n",
    "\n",
    "    @classmethod\n",
    "    def sukurti_studenta(cls, vardas: str, pavarde: str, amzius: int):\n",
    "        return cls(vardas, pavarde, amzius)\n",
    "    \n",
    "studentas_1 = Studentas.sukurti_studenta('Rimas', 'Visagurskis', 29)\n",
    "studentas_2 = Studentas.sukurti_studenta('Tomas', 'Ivanauskas', 17)\n",
    "    "
   ]
  },
  {
   "cell_type": "markdown",
   "metadata": {},
   "source": [
    "## Antra užduotis\n",
    "\n",
    "Parašykite dekoratorių, kuris:\n",
    "\n",
    "    visus dekoruotos funkcijos tekstinius argus ir kwargus paverčia didžiosiomis raidėmis.\n",
    "\n",
    "    visus funkcijos teksinius rezultatus paverčia didžiosiomis raidėmis."
   ]
  },
  {
   "cell_type": "code",
   "execution_count": null,
   "metadata": {},
   "outputs": [],
   "source": []
  },
  {
   "cell_type": "markdown",
   "metadata": {},
   "source": [
    "## Trečia užduotis\n",
    "\n",
    "    Parašykite funkciją rasti pirminį skaičių\n",
    "    Parašykite neribotą pirminių skaičių generatorių\n",
    "    Parašykite dekoratorių matuoti funkcijos laikui\n",
    "    Padarykite funkciją, kuri turi ciklą printinimui pirminių skaičių sekos radimui iki tol, kol einamo pirminio sekos skaičiaus radimas tuks ilgiau negu 0,01 sekundės.\n",
    "    Išspausdinkite viso proceso trukmę, panaudojant dekoratorių"
   ]
  },
  {
   "cell_type": "code",
   "execution_count": null,
   "metadata": {},
   "outputs": [],
   "source": []
  }
 ],
 "metadata": {
  "kernelspec": {
   "display_name": "venv",
   "language": "python",
   "name": "python3"
  },
  "language_info": {
   "codemirror_mode": {
    "name": "ipython",
    "version": 3
   },
   "file_extension": ".py",
   "mimetype": "text/x-python",
   "name": "python",
   "nbconvert_exporter": "python",
   "pygments_lexer": "ipython3",
   "version": "3.11.7"
  }
 },
 "nbformat": 4,
 "nbformat_minor": 2
}
