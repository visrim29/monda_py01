{
 "cells": [
  {
   "cell_type": "markdown",
   "metadata": {},
   "source": [
    "## Pirma užduotis\n",
    "\n",
    "Sukurkite naują katalogą pavadinimu \"Mano_Katalogas\" dabartinėje darbo vietoje. Patikrinkite, ar katalogas buvo sėkmingai sukurtas, ir atspausdinkite rezultatą."
   ]
  },
  {
   "cell_type": "code",
   "execution_count": 8,
   "metadata": {},
   "outputs": [
    {
     "name": "stdout",
     "output_type": "stream",
     "text": [
      "Katalogas: Mano_Katalogas jau egzistuoja\n"
     ]
    }
   ],
   "source": [
    "import os\n",
    "\n",
    "naujas_katalogas = 'Mano_Katalogas'\n",
    "if not os.path.exists(naujas_katalogas):\n",
    "    os.makedirs(naujas_katalogas)\n",
    "    print(f'Naujas katalogas: {naujas_katalogas} sukurtas')\n",
    "else:\n",
    "    print(f'Katalogas: {naujas_katalogas} jau egzistuoja')"
   ]
  },
  {
   "cell_type": "markdown",
   "metadata": {},
   "source": [
    "## Antra užduotis\n",
    "\n",
    "Parašykite programą, kuri peržiūrėtų dabartinį darbo katalogą ir atspausdintų visus rastus failus bei katalogus."
   ]
  },
  {
   "cell_type": "code",
   "execution_count": 10,
   "metadata": {},
   "outputs": [
    {
     "data": {
      "text/plain": [
       "'c:\\\\Users\\\\rvisa\\\\CodeAcademy\\\\python_intro\\\\monda_py01\\\\08_working_with_files'"
      ]
     },
     "execution_count": 10,
     "metadata": {},
     "output_type": "execute_result"
    }
   ],
   "source": [
    "os.getcwd()"
   ]
  },
  {
   "cell_type": "code",
   "execution_count": 14,
   "metadata": {},
   "outputs": [
    {
     "name": "stdout",
     "output_type": "stream",
     "text": [
      "Katalogo turinys: \n",
      "\n",
      "0801en_answers.ipynb\n",
      "0801en_file_read_write.ipynb\n",
      "0801_file_read_write.ipynb\n",
      "0802en_json_library.ipynb\n",
      "0802_json_library.ipynb\n",
      "0803en_answers.ipynb\n",
      "0803en_os_module.ipynb\n",
      "0803_os_module.ipynb\n",
      "0804en_binary_files.ipynb\n",
      "0805en_pickle_library.ipynb\n",
      "eilutes.txt\n",
      "Mano_Katalogas\n",
      "pakeitimai.txt\n",
      "skaiciai.txt\n"
     ]
    }
   ],
   "source": [
    "import os\n",
    "\n",
    "dabartinio_katalogo_perziura = 'c:\\\\Users\\\\rvisa\\\\CodeAcademy\\\\python_intro\\\\monda_py01\\\\08_working_with_files'\n",
    "dabartinio_katalogo_turinys = os.listdir(dabartinio_katalogo_perziura)\n",
    "\n",
    "print('Katalogo turinys: \\n')\n",
    "for elementai in dabartinio_katalogo_turinys:\n",
    "    print(elementai)"
   ]
  },
  {
   "cell_type": "markdown",
   "metadata": {},
   "source": [
    "## Trečia užduotis\n",
    "\n",
    "Sukurkite naują failą pavadinimu \"testas.txt\" dabartinėje darbo vietoje. Tada parašykite programą, kuri patikrintų, ar failas \"testas.txt\" egzistuoja, ir trintų jį, jei egzistuoja. Atspausdinkite rezultatą, kad failas buvo sėkmingai ištrintas."
   ]
  },
  {
   "cell_type": "code",
   "execution_count": 17,
   "metadata": {},
   "outputs": [
    {
     "name": "stdout",
     "output_type": "stream",
     "text": [
      "Failas: testas.txt buvo sėkmingai ištrintas\n"
     ]
    }
   ],
   "source": [
    "import os\n",
    "\n",
    "failo_kelias = 'testas.txt'\n",
    "if os.path.exists(failo_kelias):\n",
    "    os.remove(failo_kelias)\n",
    "    print(f'Failas: {failo_kelias} buvo sėkmingai ištrintas')\n",
    "else:\n",
    "    print(f'Failas: {failo_kelias} neegzistuoja')"
   ]
  }
 ],
 "metadata": {
  "kernelspec": {
   "display_name": "venv",
   "language": "python",
   "name": "python3"
  },
  "language_info": {
   "codemirror_mode": {
    "name": "ipython",
    "version": 3
   },
   "file_extension": ".py",
   "mimetype": "text/x-python",
   "name": "python",
   "nbconvert_exporter": "python",
   "pygments_lexer": "ipython3",
   "version": "3.11.7"
  }
 },
 "nbformat": 4,
 "nbformat_minor": 2
}
