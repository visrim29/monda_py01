{
 "cells": [
  {
   "cell_type": "markdown",
   "metadata": {},
   "source": [
    "## Pirma užduotis\n",
    "\n",
    "Atidarykite tekstiniame faile esančią eilutę ir atspausdinkite ją, pakeičiant visus didžiąsias raides mažosiomis ir atvirkščiai. Failo pavadinimas: \"pakeitimai.txt\".💡 Galite naudoti swapcase() funkciją."
   ]
  },
  {
   "cell_type": "code",
   "execution_count": 10,
   "metadata": {},
   "outputs": [
    {
     "name": "stdout",
     "output_type": "stream",
     "text": [
      "LABAS PASAULI\n"
     ]
    }
   ],
   "source": [
    "with open('pakeitimai.txt', 'r') as failas:\n",
    "    tekstas = failas.readline()\n",
    "    pakeistas_tekstas = tekstas.swapcase()\n",
    "print(pakeistas_tekstas)"
   ]
  },
  {
   "cell_type": "markdown",
   "metadata": {},
   "source": [
    "## Antra užduotis\n",
    "\n",
    "Sukurkite naują failą \"skaiciai.txt\" ir įrašykite į jį skaičius nuo 1 iki 100, kiekvieną naujoje eilutėje."
   ]
  },
  {
   "cell_type": "code",
   "execution_count": 14,
   "metadata": {},
   "outputs": [],
   "source": [
    "with open('skaiciai.txt', 'w') as failas:\n",
    "    for skaicius in range(1, 101):\n",
    "        failas.write(f'{skaicius}\\n')"
   ]
  },
  {
   "cell_type": "markdown",
   "metadata": {},
   "source": [
    "## Trečia užduotis\n",
    "\n",
    "Atidarykite \"tekstas.txt\" failą, pakeiskite failo žymeklį į vidurį failo ir atspausdinkite likusį failo turinį."
   ]
  },
  {
   "cell_type": "code",
   "execution_count": null,
   "metadata": {},
   "outputs": [],
   "source": [
    "with open('skaiciai.txt', 'r') as failas:\n",
    "    failas.seek(0, 2)\n",
    "    failo_ilgis = failas.tell()\n",
    "    failo_vidurys = failo_ilgis // 2\n",
    "    failas.seek(failo_vidurys)\n",
    "    likes_turinys = failas.read()\n",
    "    print(likes_turinys)\n",
    "# Spausdina nuo 2, kadangi failo_vidurys yra ties 52\n",
    "# 52 perskeliamas į 5/2, o 5 nebematome.\n"
   ]
  },
  {
   "cell_type": "markdown",
   "metadata": {},
   "source": [
    "## Ketvirta užduotis\n",
    "\n",
    "Sukurkite failą \"eilutes.txt\" ir įrašykite į jį šias eilutes:\n",
    "```\n",
    "Saulėlydis žėri žemę švelniai.\n",
    "Vakare vėjas šnypščia medžius.\n",
    "Vėjas nerimsta, šnypščia ir švilpia.\n",
    "```\n",
    "Papildykite failą \"eilutes.txt\" nauja eilute, kuri yra jūsų vardas ir pavardė.\n",
    "\n",
    "Atidarykite \"eilutes.txt\" failą, perskaitykite jo turinį ir atspausdinkite visas eilutes, kuriose yra žodis \"vėjas\"."
   ]
  },
  {
   "cell_type": "code",
   "execution_count": 51,
   "metadata": {},
   "outputs": [],
   "source": [
    "with open('eilutes.txt', 'a') as failas:\n",
    "    failas.write('\\nRimas Visagurskis')"
   ]
  },
  {
   "cell_type": "code",
   "execution_count": 59,
   "metadata": {},
   "outputs": [
    {
     "name": "stdout",
     "output_type": "stream",
     "text": [
      "Vakare vėjas šnypščia medžius.\n",
      "\n",
      "Vėjas nerimsta, šnypščia ir švilpia.\n",
      "\n"
     ]
    }
   ],
   "source": [
    "with open(\"eilutes.txt\", \"r\", encoding=\"utf-8\") as failas:\n",
    "    for eilute in failas:\n",
    "        if \"vėjas\" in eilute.lower():\n",
    "            print(eilute)"
   ]
  }
 ],
 "metadata": {
  "kernelspec": {
   "display_name": "venv",
   "language": "python",
   "name": "python3"
  },
  "language_info": {
   "codemirror_mode": {
    "name": "ipython",
    "version": 3
   },
   "file_extension": ".py",
   "mimetype": "text/x-python",
   "name": "python",
   "nbconvert_exporter": "python",
   "pygments_lexer": "ipython3",
   "version": "3.11.7"
  }
 },
 "nbformat": 4,
 "nbformat_minor": 2
}
