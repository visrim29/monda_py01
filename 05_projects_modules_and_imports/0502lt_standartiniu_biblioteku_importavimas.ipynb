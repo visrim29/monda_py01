{
 "cells": [
  {
   "cell_type": "markdown",
   "metadata": {},
   "source": [
    "# Standartinių bibliotekų importavimas"
   ]
  },
  {
   "cell_type": "markdown",
   "metadata": {},
   "source": [
    "## import this - \"The Zen of Python\" (Python'o dvasia)"
   ]
  },
  {
   "cell_type": "markdown",
   "metadata": {},
   "source": [
    "\"The Zen of Python\" (liet. „Python'o Dvasia“) yra Python programavimo kalbos filosofiją atspindinti poema, kurią sukūrė Tim Peters. Norėdami ją pamatyti, įvykdykite šią komandą:"
   ]
  },
  {
   "cell_type": "code",
   "execution_count": null,
   "metadata": {},
   "outputs": [],
   "source": [
    "import this"
   ]
  },
  {
   "cell_type": "markdown",
   "metadata": {},
   "source": [
    "Poemos pagrindiniai principai pabrėžia:\n",
    "\n",
    "- Aiškumas yra geriau už dviprasmiškumą.\n",
    "- Paprastumas viršija komplikacijas.\n",
    "- \"Dvigubai geriau\" nėra toks geras kaip \"gerai pakanka\".\n",
    "- Praktika yra svarbesnė už teoriją."
   ]
  },
  {
   "cell_type": "markdown",
   "metadata": {},
   "source": [
    "## `import random` - atsitiktinių skaičių generatoriaus funkcijos"
   ]
  },
  {
   "cell_type": "code",
   "execution_count": 1,
   "metadata": {},
   "outputs": [
    {
     "name": "stdout",
     "output_type": "stream",
     "text": [
      "0.22400663246757047\n",
      "2\n",
      "e\n"
     ]
    }
   ],
   "source": [
    "import random\n",
    "\n",
    "# generuoja atsitiktinį (float) skaičių tarp 0.0 ir 1.0.\n",
    "print(random.random())\n",
    "\n",
    "# generuoja atsitiktinį sveikąjį skaičių (int) tarp 1 ir 10 imtinai.\n",
    "print(random.randint(1, 10))\n",
    "\n",
    "# atsitiktinai pasirenka elementą iš sekos, tokių kaip sąrašas.\n",
    "my_list = [\"a\", \"b\", \"c\", \"d\", \"e\"]\n",
    "print(random.choice(my_list))"
   ]
  },
  {
   "cell_type": "markdown",
   "metadata": {},
   "source": [
    "### Greita Užduotis 1: Python Funkcijos Sukūrimas\n",
    "\n",
    "Parašykite Python funkciją pavadinimu `print_and_sort_random_numbers`, kuri atliktų šiuos veiksmus:\n",
    "\n",
    "1. Sugeneruokite 10 atsitiktinių sveikųjų skaičių tarp 1 ir 100.\n",
    "1. Atspausdinkite pradinį atsitiktinių skaičių sąrašą.\n",
    "1. Išrikiuokite sąrašą didėjančia tvarka.\n",
    "1. Atspausdinkite surikiuotą sąrašą."
   ]
  },
  {
   "cell_type": "code",
   "execution_count": 73,
   "metadata": {},
   "outputs": [
    {
     "name": "stdout",
     "output_type": "stream",
     "text": [
      "[7, 61, 31, 51, 87, 47, 47, 78, 34, 23, 18]\n",
      "[7, 18, 23, 31, 34, 47, 47, 51, 61, 78, 87]\n"
     ]
    }
   ],
   "source": [
    "import random\n",
    "\n",
    "def print_and_sort_random_numbers():\n",
    "    random_numbers = [random.randint(1, 100)]\n",
    "    for number in (range(10)):\n",
    "        random_numbers.append(random.randint(1, 100))\n",
    "    print(random_numbers)\n",
    "\n",
    "    random_numbers.sort()\n",
    "    print(random_numbers)\n",
    "\n",
    "print_and_sort_random_numbers()\n"
   ]
  },
  {
   "cell_type": "markdown",
   "metadata": {},
   "source": [
    "## `import math` - papildomos matematinės funkcijos"
   ]
  },
  {
   "cell_type": "markdown",
   "metadata": {},
   "source": [
    "Python'o `math` biblioteka suteikia prieigą prie papildomų matematinių funkcijų ir konstantų, tokių kaip π (pi) ir e. Štai keletas pavyzdžių:"
   ]
  },
  {
   "cell_type": "code",
   "execution_count": 77,
   "metadata": {},
   "outputs": [
    {
     "name": "stdout",
     "output_type": "stream",
     "text": [
      "['__doc__', '__loader__', '__name__', '__package__', '__spec__', 'acos', 'acosh', 'asin', 'asinh', 'atan', 'atan2', 'atanh', 'cbrt', 'ceil', 'comb', 'copysign', 'cos', 'cosh', 'degrees', 'dist', 'e', 'erf', 'erfc', 'exp', 'exp2', 'expm1', 'fabs', 'factorial', 'floor', 'fmod', 'frexp', 'fsum', 'gamma', 'gcd', 'hypot', 'inf', 'isclose', 'isfinite', 'isinf', 'isnan', 'isqrt', 'lcm', 'ldexp', 'lgamma', 'log', 'log10', 'log1p', 'log2', 'modf', 'nan', 'nextafter', 'perm', 'pi', 'pow', 'prod', 'radians', 'remainder', 'sin', 'sinh', 'sqrt', 'tan', 'tanh', 'tau', 'trunc', 'ulp']\n",
      "1.0\n",
      "120\n",
      "3.0\n"
     ]
    }
   ],
   "source": [
    "import math\n",
    "print(dir(math))\n",
    "\n",
    "# funkcija apskaičiuoja sinuso reikšmę\n",
    "print(math.sin(math.pi / 2))\n",
    "\n",
    "# funkcija apskaičiuoja faktorialą\n",
    "print(math.factorial(5))\n",
    "\n",
    "# funkcija apskaičiuoja kvadratinę šaknį\n",
    "print(math.sqrt(9))"
   ]
  },
  {
   "cell_type": "markdown",
   "metadata": {},
   "source": [
    "### Greita užduotis 2: Kauliukų žaidimas\n",
    "\n",
    "Sukurkite kauliukų žaidimą, kuris:\n",
    "\n",
    "- Sugeneruotų tris atsitiktinius skaičius nuo 1 iki 6\n",
    "- Jei vienas iš šių skaičių yra 5, atspausdinti „Pralaimėjai...“\n",
    "- Kitu atveju atspausdinti „Laimėjai!“\n",
    "- Patarimas: Naudokite ciklą"
   ]
  },
  {
   "cell_type": "code",
   "execution_count": 122,
   "metadata": {},
   "outputs": [
    {
     "name": "stdout",
     "output_type": "stream",
     "text": [
      "[1, 4, 3]\n",
      "Laimėjai!\n"
     ]
    }
   ],
   "source": [
    "import random\n",
    "\n",
    "def dice_game():\n",
    "    rolled_number = []\n",
    "    for roll in range(0, 3):\n",
    "        rolled_number.append(random.randint(1, 6))\n",
    "    print(rolled_number)\n",
    "    if 5 in list(rolled_number):\n",
    "        print('Pralaimėjai...')\n",
    "    elif 5 not in list(rolled_number):\n",
    "        print('Laimėjai!')\n",
    "\n",
    "dice_game()"
   ]
  },
  {
   "cell_type": "markdown",
   "metadata": {},
   "source": [
    "## `import calendar` - kalendoriaus funkcijos"
   ]
  },
  {
   "cell_type": "markdown",
   "metadata": {},
   "source": [
    "Python'o `calendar` biblioteka suteikia galimybes dirbti su kalendoriais ir atlikti tokias operacijas kaip keliamųjų metų tikrinimą arba savaitės dienos nustatymą pagal datą. Štai keletas pavyzdžių:"
   ]
  },
  {
   "cell_type": "code",
   "execution_count": 123,
   "metadata": {},
   "outputs": [
    {
     "name": "stdout",
     "output_type": "stream",
     "text": [
      "False\n",
      "Tuesday\n",
      "(5, 30)\n",
      "     April 2023\n",
      "Mo Tu We Th Fr Sa Su\n",
      "                1  2\n",
      " 3  4  5  6  7  8  9\n",
      "10 11 12 13 14 15 16\n",
      "17 18 19 20 21 22 23\n",
      "24 25 26 27 28 29 30\n",
      "\n"
     ]
    }
   ],
   "source": [
    "import calendar\n",
    "\n",
    "# Tikrinti, ar metai yra keliamieji\n",
    "print(calendar.isleap(2023))\n",
    "\n",
    "# Gaukite savaitės dienos pavadinimą pagal skaičių\n",
    "print(calendar.day_name[1]) # 'Tuesday'\n",
    "\n",
    "# Gaukite mėnesio dienų skaičių\n",
    "print(calendar.monthrange(2023, 4)) # (5, 30) - pirmoji balandžio diena yra šeštadienis (5), o balandžio mėnesyje yra 30 dienų\n",
    "\n",
    "# Atspausdinti mėnesio kalendorių\n",
    "print(calendar.month(2023, 4))"
   ]
  },
  {
   "cell_type": "markdown",
   "metadata": {},
   "source": [
    "`calendar` biblioteka turi daugiau funkcijų ir savybių, kurios padės jums dirbti su datomis ir laiku. Šie pavyzdžiai yra tik pradžia. Galite rasti daugiau informacijos apie `calendar` biblioteką [Python dokumentacijoje](https://docs.python.org/3/library/calendar.html)."
   ]
  },
  {
   "cell_type": "markdown",
   "metadata": {},
   "source": [
    "### Greita užduotis 3: `calendar` bibliotekos naudojimas"
   ]
  },
  {
   "cell_type": "markdown",
   "metadata": {},
   "source": [
    "Sukurkite Python funkciją, kuri vadinasi `print_month_calendar`.\n",
    "\n",
    "- Funkcija turėtų priimti du parametrus: metai ir menesis.\n",
    "- Funkcijos viduje, naudodami calendar modulį, sugeneruokite ir atspausdinkite nurodyto mėnesio kalendorių.\n",
    "- Apskaičiuokite ir atspausdinkite, kiek yra savaitgalio dienų (šeštadienių ir sekmadienių) nurodytame mėnesyje."
   ]
  },
  {
   "cell_type": "code",
   "execution_count": 2,
   "metadata": {},
   "outputs": [
    {
     "name": "stdout",
     "output_type": "stream",
     "text": [
      "['Calendar', 'EPOCH', 'FRIDAY', 'February', 'HTMLCalendar', 'IllegalMonthError', 'IllegalWeekdayError', 'January', 'LocaleHTMLCalendar', 'LocaleTextCalendar', 'MONDAY', 'SATURDAY', 'SUNDAY', 'THURSDAY', 'TUESDAY', 'TextCalendar', 'WEDNESDAY', '_EPOCH_ORD', '__all__', '__builtins__', '__cached__', '__doc__', '__file__', '__loader__', '__name__', '__package__', '__spec__', '_colwidth', '_get_default_locale', '_locale', '_localized_day', '_localized_month', '_monthlen', '_nextmonth', '_prevmonth', '_spacing', 'c', 'calendar', 'datetime', 'day_abbr', 'day_name', 'different_locale', 'error', 'firstweekday', 'format', 'formatstring', 'isleap', 'leapdays', 'main', 'mdays', 'month', 'month_abbr', 'month_name', 'monthcalendar', 'monthrange', 'prcal', 'prmonth', 'prweek', 'repeat', 'setfirstweekday', 'sys', 'timegm', 'week', 'weekday', 'weekheader']\n",
      "Return weekday (0-6 ~ Mon-Sun) and number of days (28-31) for\n",
      "       year, month.\n",
      "    January 2024\n",
      "Mo Tu We Th Fr Sa Su\n",
      " 1  2  3  4  5  6  7\n",
      " 8  9 10 11 12 13 14\n",
      "15 16 17 18 19 20 21\n",
      "22 23 24 25 26 27 28\n",
      "29 30 31\n",
      "\n",
      "Weekend days: 8\n"
     ]
    }
   ],
   "source": [
    "import calendar\n",
    "print(dir(calendar))\n",
    "print(calendar.monthrange.__doc__)\n",
    "\n",
    "def print_month_calendar(year, month):\n",
    "    print(calendar.month(year, month))\n",
    "    \n",
    "    days_in_month = calendar.monthrange(year, month)[1]\n",
    "    weekend_days = 0\n",
    "    for weekend in range(1, days_in_month + 1):\n",
    "        if calendar.weekday(year, month, weekend) in [calendar.SATURDAY, calendar.SUNDAY]:\n",
    "            weekend_days += 1\n",
    "    print(f'Weekend days: {weekend_days}')\n",
    "\n",
    "\n",
    "print_month_calendar(2024, 1)"
   ]
  }
 ],
 "metadata": {
  "kernelspec": {
   "display_name": "venv",
   "language": "python",
   "name": "python3"
  },
  "language_info": {
   "codemirror_mode": {
    "name": "ipython",
    "version": 3
   },
   "file_extension": ".py",
   "mimetype": "text/x-python",
   "name": "python",
   "nbconvert_exporter": "python",
   "pygments_lexer": "ipython3",
   "version": "3.11.7"
  }
 },
 "nbformat": 4,
 "nbformat_minor": 2
}
