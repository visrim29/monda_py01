{
 "cells": [
  {
   "cell_type": "markdown",
   "metadata": {},
   "source": [
    "# Žodynas\n",
    "\n",
    "Žodynas yra viena iš pagrindinių duomenų struktūrų „Python“ kalboje, kuri leidžia jums saugoti raktų ir reikšmių porų kolekcijas.\n",
    "\n",
    "- Žodyne kiekvienas raktas yra susietas su reikšme, ir šią reikšmę galite pasiekti naudodami raktą.\n",
    "- „Python“ kalboje žodynai yra nepaprastai naudingi įvairioms užduotims, tokiose kaip informacijos saugojimas, duomenų organizavimas ir greitas reikšmių gavimas, susietų su konkrečiais raktais."
   ]
  },
  {
   "cell_type": "markdown",
   "metadata": {},
   "source": [
    "## Žodynų kūrimas\n",
    "\n",
    "- Žodynai „Python“ kalboje gali būti sukurti naudojant laužtinius skliaustus `{}`.\n",
    "- Kiekvieną raktą ir reikšmę atskiria dvitaškiai, o daugiau raktų ir reikšmių porų skiria kableliai. \n",
    "\n",
    "**Pavyzdys**:"
   ]
  },
  {
   "cell_type": "code",
   "execution_count": 23,
   "metadata": {},
   "outputs": [
    {
     "name": "stdout",
     "output_type": "stream",
     "text": [
      "{'raktas1': 'reiksme1', 'raktas2': 'reiksme2'}\n"
     ]
    }
   ],
   "source": [
    "zodynas = {'raktas1': 'reiksme1', 'raktas2': 'reiksme2'}\n",
    "print(zodynas)  # {'raktas1': 'reiksme1', 'raktas2': 'reiksme2'}"
   ]
  },
  {
   "cell_type": "code",
   "execution_count": 18,
   "metadata": {},
   "outputs": [
    {
     "name": "stdout",
     "output_type": "stream",
     "text": [
      "{'Kaledos': 'Gruodžio 25-26', 'Nauji Metai': 'Sausio 1', 'Vėlykos': 'Pavasary'}\n"
     ]
    }
   ],
   "source": [
    "sventes = {'Kaledos': 'Gruodžio 25-26', 'Nauji Metai': 'Sausio 1', 'Vėlykos': 'Pavasary'}\n",
    "print(sventes)"
   ]
  },
  {
   "cell_type": "markdown",
   "metadata": {},
   "source": [
    "### `Greita užduotis 1: žodyno kūrimas`\n",
    "\n",
    "**Instrukcijos:**\n",
    "\n",
    "1. Sukurkite žodyną su bent trimis augintinių vardais ir jų amžiais.\n",
    "1. Atspausdinkite visą žodyną.\n",
    "\n",
    "**Patarimas**\n",
    "- Naudokite bet kokį savo pasirinkto pavadinimo kintamąjį."
   ]
  },
  {
   "cell_type": "code",
   "execution_count": 24,
   "metadata": {},
   "outputs": [
    {
     "name": "stdout",
     "output_type": "stream",
     "text": [
      "{'Haris': 18, 'Portas': 13, 'Ramzis': 4}\n"
     ]
    }
   ],
   "source": [
    "augintiniai = {'Haris': 18, 'Portas': 13, 'Ramzis': 4}\n",
    "print(augintiniai)"
   ]
  },
  {
   "cell_type": "markdown",
   "metadata": {},
   "source": [
    "---\n",
    "\n",
    "## Prieiga prie konkretaus žodyno įrašo\n",
    "\n",
    "- Norėdami pasiekti konkretų įrašą žodyne, tiesiog turite nurodyti raktą laužtiniuose `[]` skliaustuose:"
   ]
  },
  {
   "cell_type": "code",
   "execution_count": 25,
   "metadata": {},
   "outputs": [
    {
     "name": "stdout",
     "output_type": "stream",
     "text": [
      "32\n",
      "24\n"
     ]
    }
   ],
   "source": [
    "zmones = {'Jonas': 24, 'Petras': 32}\n",
    "print(zmones['Petras']) # 32\n",
    "print(zmones['Jonas']) # 24"
   ]
  },
  {
   "cell_type": "code",
   "execution_count": 21,
   "metadata": {},
   "outputs": [
    {
     "name": "stdout",
     "output_type": "stream",
     "text": [
      "Gruodžio 25-26\n"
     ]
    }
   ],
   "source": [
    "print(sventes['Kaledos'])"
   ]
  },
  {
   "cell_type": "markdown",
   "metadata": {},
   "source": [
    "### `Greita užduotis 2: Konkretaus žodyno įrašo pasiekimas`\n",
    "\n",
    "**Instrukcijos:**\n",
    "\n",
    "1. Atspausdinkite bet kurio gyvūno amžių iš žodyno, sukurto `Greitosios užduoties 1` metu."
   ]
  },
  {
   "cell_type": "code",
   "execution_count": 26,
   "metadata": {},
   "outputs": [
    {
     "name": "stdout",
     "output_type": "stream",
     "text": [
      "Amžius: 4\n",
      "Amžius: 18\n",
      "Amžius: 13\n"
     ]
    }
   ],
   "source": [
    "print('Amžius:', augintiniai['Ramzis'])\n",
    "print('Amžius:', augintiniai['Haris'])\n",
    "print('Amžius:', augintiniai['Portas'])"
   ]
  },
  {
   "cell_type": "markdown",
   "metadata": {},
   "source": [
    "---\n",
    "\n",
    "## Įtraukti įrašą į žodyną\n",
    "- Į žodyną galite įtraukti įrašą naudodami paprastą priskyrimo operatorių `=`, \n",
    "- nurodydami raktą laužtiniuose skliaustuose `[]` po žodyno kintamojo pavadinimo. \n",
    "\n",
    "**Pavyzdys:**"
   ]
  },
  {
   "cell_type": "code",
   "execution_count": 27,
   "metadata": {},
   "outputs": [
    {
     "name": "stdout",
     "output_type": "stream",
     "text": [
      "{'Jonas': 24, 'Petras': 32, 'Ona': 28}\n"
     ]
    }
   ],
   "source": [
    "zmones = {'Jonas': 24, 'Petras': 32}\n",
    "zmones['Ona'] = 28\n",
    "print(zmones)  # {'Jonas': 24, 'Petras': 32, 'Ona': 28}"
   ]
  },
  {
   "cell_type": "code",
   "execution_count": 24,
   "metadata": {},
   "outputs": [
    {
     "name": "stdout",
     "output_type": "stream",
     "text": [
      "{'Kaledos': 'Gruodžio 25-26', 'Nauji Metai': 'Sausio 1', 'Vėlykos': 'Pavasary', 'Joninės': 'Birželio 24'}\n"
     ]
    }
   ],
   "source": [
    "sventes['Joninės'] = 'Birželio 24'\n",
    "print(sventes)"
   ]
  },
  {
   "cell_type": "markdown",
   "metadata": {},
   "source": [
    "### `Greita užduotis 3: Įrašo pridėjimas prie žodyno`\n",
    "\n",
    "**Instrukcijos:**\n",
    "\n",
    "1. Pridėkite naują gyvūną prie žodyno, sukūrto `Greitosios užduoties 1` metu.\n",
    "1. Atspausdinkite atnaujintą žodyną."
   ]
  },
  {
   "cell_type": "code",
   "execution_count": 28,
   "metadata": {},
   "outputs": [
    {
     "name": "stdout",
     "output_type": "stream",
     "text": [
      "{'Haris': 18, 'Portas': 13, 'Ramzis': 4, 'Kicius': 3, 'Pukis': 5}\n"
     ]
    }
   ],
   "source": [
    "augintiniai['Kicius'] = 3\n",
    "augintiniai['Pukis'] = 5\n",
    "print(augintiniai)"
   ]
  },
  {
   "cell_type": "markdown",
   "metadata": {},
   "source": [
    "---\n",
    "\n",
    "## Konkretaus žodyno įrašo keitimas\n",
    "\n",
    "- Norint pakeisti konkretaus žodyno įrašą, reikia nurodyti esamą raktą laužtiniuose skliaustuose `[]` po žodyno kintamojo pavadinimo ir priskirti jam naują reikšmę:"
   ]
  },
  {
   "cell_type": "code",
   "execution_count": 29,
   "metadata": {},
   "outputs": [
    {
     "name": "stdout",
     "output_type": "stream",
     "text": [
      "{'Jonas': 24, 'Petras': 33, 'Ona': 28}\n"
     ]
    }
   ],
   "source": [
    "people = {'Jonas': 24, 'Petras': 32, 'Ona': 28}\n",
    "people['Petras'] = 33\n",
    "print(people)  # {'Jonas': 24, 'Petras': 33, 'Ona': 28}"
   ]
  },
  {
   "cell_type": "code",
   "execution_count": 27,
   "metadata": {},
   "outputs": [
    {
     "data": {
      "text/plain": [
       "{'Jonas': 26, 'Petras': 33, 'Ona': 28}"
      ]
     },
     "execution_count": 27,
     "metadata": {},
     "output_type": "execute_result"
    }
   ],
   "source": [
    "people['Jonas'] += 2\n",
    "people"
   ]
  },
  {
   "cell_type": "markdown",
   "metadata": {},
   "source": [
    "### `Greita užduotis 4: Konkretaus žodyno įrašo keitimas`\n",
    "\n",
    "**Instrukcijos:**\n",
    "\n",
    "1. Pakeiskite bet kurio gyvūno amžių iš sukurtos sąrašo `užduoties 1`.\n",
    "1. Atspausdinkite atnaujintą žodyną."
   ]
  },
  {
   "cell_type": "code",
   "execution_count": 30,
   "metadata": {},
   "outputs": [
    {
     "name": "stdout",
     "output_type": "stream",
     "text": [
      "{'Haris': 19, 'Portas': 13, 'Ramzis': 4, 'Kicius': 3, 'Pukis': 5}\n"
     ]
    }
   ],
   "source": [
    "augintiniai['Haris'] += 2\n",
    "print(augintiniai)"
   ]
  },
  {
   "cell_type": "markdown",
   "metadata": {},
   "source": [
    "---\n",
    "\n",
    "## Konkretaus žodyno įrašo trinimas\n",
    "\n",
    "- Norint ištrinti žodyno įrašą, galite naudoti `del` komandą, po to seka žodyno kintamojo pavadinimas ir raktas laužtiniuose skliaustuose, kurio reikšmę norite pašalinti iš žodyno."
   ]
  },
  {
   "cell_type": "code",
   "execution_count": 31,
   "metadata": {},
   "outputs": [
    {
     "name": "stdout",
     "output_type": "stream",
     "text": [
      "{'Jonas': 24, 'Petras': 32}\n"
     ]
    }
   ],
   "source": [
    "people = {'Jonas': 24, 'Petras': 32, 'Ona': 28}\n",
    "del people['Ona']\n",
    "print(people)  # {'Jonas': 24, 'Petras': 32}"
   ]
  },
  {
   "cell_type": "markdown",
   "metadata": {},
   "source": [
    "### `Greita užduotis 5: konkretaus žodyno įrašo ištrynimas`\n",
    "\n",
    "Dabar praktikuosimės greitai trinti žodyno įrašus:\n",
    "\n",
    "**Instrukcijos:**\n",
    "\n",
    "1. Naudokite `del` komandą, kad pašalintumėte vieną iš augintinių ir jo kiekį iš sukurtos žodyno `greitosios užduoties 1`.\n",
    "1. Atspausdinkite augintinių žodyną dar kartą, kad pamatytumėte rezultatą."
   ]
  },
  {
   "cell_type": "code",
   "execution_count": 32,
   "metadata": {},
   "outputs": [
    {
     "name": "stdout",
     "output_type": "stream",
     "text": [
      "{'Portas': 13, 'Ramzis': 4, 'Kicius': 3, 'Pukis': 5}\n"
     ]
    }
   ],
   "source": [
    "del augintiniai['Haris']\n",
    "print(augintiniai)"
   ]
  },
  {
   "cell_type": "markdown",
   "metadata": {},
   "source": [
    "---\n",
    "\n",
    "## Žodyno metodai\n",
    "\n",
    "Žodyno metodai leidžia atlikti veiksmus su žodynu ir manipuliuoti jo turiniu. Štai keletas dažniausiai naudojamų metodų:\n",
    "\n",
    "`.keys()` Grąžina visus raktus žodyne."
   ]
  },
  {
   "cell_type": "code",
   "execution_count": 39,
   "metadata": {},
   "outputs": [
    {
     "name": "stdout",
     "output_type": "stream",
     "text": [
      "dict_keys(['Jonas', 'Petras', 'Ona'])\n"
     ]
    }
   ],
   "source": [
    "people = {'Jonas': 24, 'Petras': 32, 'Ona': 28}\n",
    "keys = people.keys()\n",
    "print(keys)  # dict_keys(['Jonas', 'Petras', 'Ona'])"
   ]
  },
  {
   "cell_type": "markdown",
   "metadata": {},
   "source": [
    "`.values()` Grąžina visas žodyno reikšmes."
   ]
  },
  {
   "cell_type": "code",
   "execution_count": 40,
   "metadata": {},
   "outputs": [
    {
     "name": "stdout",
     "output_type": "stream",
     "text": [
      "dict_values([24, 32, 28])\n"
     ]
    }
   ],
   "source": [
    "people = {'Jonas': 24, 'Petras': 32, 'Ona': 28}\n",
    "values = people.values()\n",
    "print(values)  # dict_values([24, 32, 28])"
   ]
  },
  {
   "cell_type": "markdown",
   "metadata": {},
   "source": [
    "`.items()` Grąžina `sąrašą`, kuriame yra visi žodyno raktai ir jų atitinkamos reikšmės."
   ]
  },
  {
   "cell_type": "code",
   "execution_count": 41,
   "metadata": {},
   "outputs": [
    {
     "name": "stdout",
     "output_type": "stream",
     "text": [
      "dict_items([('Jonas', 24), ('Petras', 32), ('Ona', 28)])\n"
     ]
    }
   ],
   "source": [
    "people = {'Jonas': 24, 'Petras': 32, 'Ona': 28}\n",
    "items = people.items()\n",
    "print(items)  # dict_items([('Jonas', 24), ('Petras', 32), ('Ona', 28)])"
   ]
  },
  {
   "cell_type": "code",
   "execution_count": 49,
   "metadata": {},
   "outputs": [
    {
     "name": "stdout",
     "output_type": "stream",
     "text": [
      "[('Jonas', 24), ('Petras', 32), ('Ona', 28)]\n",
      "32\n"
     ]
    }
   ],
   "source": [
    "items = list(items)\n",
    "print(items)\n",
    "print(items[1][1])"
   ]
  },
  {
   "cell_type": "markdown",
   "metadata": {},
   "source": [
    "`.get()` Grąžina reikšmę, kuri atitinka nurodytą raktą. Jei raktas nerastas, gali grąžinti numatytąją reikšmę (nurodytą kaip atskiras argumentas) arba None."
   ]
  },
  {
   "cell_type": "code",
   "execution_count": 57,
   "metadata": {},
   "outputs": [
    {
     "name": "stdout",
     "output_type": "stream",
     "text": [
      "24\n",
      "0\n",
      "None\n"
     ]
    }
   ],
   "source": [
    "people = {'Jonas': 24, 'Petras': 32, 'Ona': 28}\n",
    "value = people.get('Jonas')\n",
    "print(value)  # 24\n",
    "print(people['Jonas']) # beveik vienodai, bet skiriasi"
   ]
  },
  {
   "cell_type": "markdown",
   "metadata": {},
   "source": [
    "`.get` metodas negrąžina reikšmės, jeigu neranda rakto. Galima nurodyti standartinę reikšmę, kurią grąžintų `.get()` neradus rakto žodyne, kaip antrą argumentą."
   ]
  },
  {
   "cell_type": "code",
   "execution_count": 58,
   "metadata": {},
   "outputs": [
    {
     "name": "stdout",
     "output_type": "stream",
     "text": [
      "0\n",
      "None\n"
     ]
    }
   ],
   "source": [
    "print(people.get('Juozas', 0))  # 0\n",
    "print(people.get('Juozas'))  # None"
   ]
  },
  {
   "cell_type": "markdown",
   "metadata": {},
   "source": [
    "`.pop()` Pašalina ir grąžina reikšmę, susietą su nurodytu raktu. Jei raktas nerastas, gali grąžinti numatytąją reikšmę (nurodytą kaip atskiras argumentas) arba sukelti klaidą."
   ]
  },
  {
   "cell_type": "code",
   "execution_count": 59,
   "metadata": {},
   "outputs": [
    {
     "name": "stdout",
     "output_type": "stream",
     "text": [
      "32\n",
      "0\n",
      "{'Jonas': 24, 'Ona': 28}\n"
     ]
    }
   ],
   "source": [
    "people = {'Jonas': 24, 'Petras': 32, 'Ona': 28}\n",
    "value = people.pop('Petras')\n",
    "print(value)  # 32\n",
    "not_found = people.pop('Juozas', 0)\n",
    "print(not_found)  # 0\n",
    "print(people)  # {'Jonas': 24, 'Ona': 28}"
   ]
  },
  {
   "cell_type": "markdown",
   "metadata": {},
   "source": [
    "`.clear()` Išvalo žodyno turinį, jį padarant tuščiu žodynu."
   ]
  },
  {
   "cell_type": "code",
   "execution_count": 62,
   "metadata": {},
   "outputs": [
    {
     "name": "stdout",
     "output_type": "stream",
     "text": [
      "{}\n"
     ]
    }
   ],
   "source": [
    "people = {'Jonas': 24, 'Petras': 32, 'Ona': 28}\n",
    "people.clear()\n",
    "print(people)  # {}"
   ]
  },
  {
   "cell_type": "markdown",
   "metadata": {},
   "source": [
    "Pastaba dėl \"`del`\" ir \"`pop()`\" skirtumo:\n",
    "\n",
    "Abu metodai leidžia pašalinti įrašą iš žodyno, tačiau yra šiek tiek skirtumų:\n",
    "\n",
    "- jei norite tik pašalinti įrašą be galimybės grąžinti reikšmę, turėtumėte naudoti `del`. \n",
    "- Jei norite ir pašalinti, ir grąžinti reikšmę, `pop()` yra geresnis pasirinkimas, ypač jei turite numatytąją reikšmę raktui neradus."
   ]
  },
  {
   "cell_type": "markdown",
   "metadata": {},
   "source": [
    "# `Greita užduotis 6: žodyno metodai`\n",
    "\n",
    "Dabar išbandykime naudodami šiuos žodyno metodus:\n",
    "\n",
    "1. Atspausdinkite gyvūnų žodyno reikšmes.\n",
    "1. Naudokite `.items()` metodą, kad atspausdintumėte visų raktų ir reikšmių sąrašą gyvūnų žodyne.\n",
    "1. Naudokite `.get()` metodą, kad gautumėte vieno gyvūno amžių, nurodant numatytąją vertę, jei gyvūno nėra.\n",
    "1. Naudokite `.pop()` metodą, kad pašalintumėte vieną gyvūną ir jo amžių iš žodyno.\n",
    "1. Išvalykite gyvūnų žodyno turinį, naudodami `.clear()` metodą, ir atspausdinkite tuščią žodyną."
   ]
  },
  {
   "cell_type": "code",
   "execution_count": 40,
   "metadata": {},
   "outputs": [
    {
     "name": "stdout",
     "output_type": "stream",
     "text": [
      "dict_values([4, 3, 5])\n",
      "{'Ramzis': 4, 'Kicius': 3, 'Pukis': 5}\n",
      "3\n",
      "13\n",
      "{}\n"
     ]
    }
   ],
   "source": [
    "#1\n",
    "reiksmes = augintiniai.values()\n",
    "print(reiksmes)\n",
    "#2\n",
    "items = augintiniai.items()\n",
    "print(augintiniai)\n",
    "#3\n",
    "reiksme = augintiniai.get('Kicius')\n",
    "print(reiksme)\n",
    "#4\n",
    "istrintas = augintiniai.pop('Portas', 13)\n",
    "print(istrintas)\n",
    "#5\n",
    "augintiniai.clear()\n",
    "print(augintiniai)"
   ]
  },
  {
   "cell_type": "markdown",
   "metadata": {},
   "source": [
    "## `.update()` metodas\n",
    "atnaujina žodyną - esamas reikšmes pakeičia, naujas prideda. Senų nepašalina."
   ]
  },
  {
   "cell_type": "code",
   "execution_count": 68,
   "metadata": {},
   "outputs": [
    {
     "name": "stdout",
     "output_type": "stream",
     "text": [
      "{'Jonas': 33, 'Petras': 32, 'Ona': 28, 'Kęstutis': 40}\n",
      "{'Jonas': 33, 'Petras': 32, 'Ona': 21, 'Kęstutis': 40, 'Marco': 2, 'Maija': 3}\n"
     ]
    }
   ],
   "source": [
    "people = {'Jonas': 24, 'Petras': 32, 'Ona': 28}\n",
    "people.update({\"Kęstutis\": 40, \"Jonas\": 33})\n",
    "print(people)\n",
    "\n",
    "atnaujinimas = {\"Marco\": 2, \"Maija\": 3, \"Ona\": 21}\n",
    "people.update(atnaujinimas)\n",
    "print(people)"
   ]
  },
  {
   "cell_type": "markdown",
   "metadata": {},
   "source": [
    "# `Papildoma Užduotis`\n",
    "\n",
    "Sukurkite tuščią žodyną pavadinimu \"cars\" ir pridėkite informaciją apie tris skirtingus automobilius. Nebijokite naudoti savo kūrybiškumo ir įtraukti įvairių gamintojų, modelių, metų, spalvų ir variklių tipų.\n",
    "\n",
    "1. Atvaizduokite informaciją apie vieną automobilį iš žodyno.\n",
    "1. Pakeiskite informaciją apie vieną automobilį (pavyzdžiui, pakeiskite variklio tipą).\n",
    "1. Pridėkite naują automobilį į žodyną.\n",
    "1. Pašalinkite informaciją apie vieną automobilį iš žodyno.\n",
    "1. Atvaizduokite bendrą automobilių skaičių žodyne.\n",
    "1. Patikrinkite, ar konkretus automobilis yra žodyne.\n",
    "1. Išvalykite žodyną.\n",
    "1. Sukurkite žodyno atnaujinimą, atnaujinkite žodyną"
   ]
  },
  {
   "cell_type": "code",
   "execution_count": 68,
   "metadata": {},
   "outputs": [
    {
     "name": "stdout",
     "output_type": "stream",
     "text": [
      "S40\t1997 m.\tzalia\n",
      "{'Volvo': 'S60\\t2007 m.\\tzalia', 'Audi': '100\\t1995 m.\\tsidabrine', 'Opel': 'Astra\\t2004 m.\\tmelyna'}\n",
      "{'Volvo': 'S60\\t2007 m.\\tzalia', 'Audi': '100\\t1995 m.\\tsidabrine', 'Opel': 'Astra\\t2004 m.\\tmelyna', 'Volkswagen': 'Golf\\t2012 m.\\tjuoda'}\n",
      "{'Volvo': 'S60\\t2007 m.\\tzalia', 'Audi': '100\\t1995 m.\\tsidabrine', 'Volkswagen': 'Golf\\t2012 m.\\tjuoda'}\n",
      "3\n",
      "100\t1995 m.\tsidabrine\n",
      "{}\n"
     ]
    }
   ],
   "source": [
    "cars = {'Volvo': 'S40\\t1997 m.\\tzalia', 'Audi': '100\\t1995 m.\\tsidabrine', 'Opel': 'Astra\\t2004 m.\\tmelyna'}\n",
    "#1\n",
    "volvo = cars.get('Volvo')\n",
    "#audi = cars.get('Audi')\n",
    "#opel = cars.get('Opel')\n",
    "print(volvo)\n",
    "#print(audi)\n",
    "#print(opel)\n",
    "#2\n",
    "cars['Volvo'] = 'S60\\t2007 m.\\tzalia'\n",
    "print(cars)\n",
    "#3\n",
    "cars['Volkswagen'] = 'Golf\\t2012 m.\\tjuoda'\n",
    "print(cars)\n",
    "#4\n",
    "del cars['Opel']\n",
    "print(cars)\n",
    "#5\n",
    "kiekis = len(cars)\n",
    "print(kiekis)\n",
    "#6\n",
    "print(cars['Audi'])\n",
    "#7\n",
    "cars.clear()\n",
    "print(cars)"
   ]
  }
 ],
 "metadata": {
  "kernelspec": {
   "display_name": "venv",
   "language": "python",
   "name": "python3"
  },
  "language_info": {
   "codemirror_mode": {
    "name": "ipython",
    "version": 3
   },
   "file_extension": ".py",
   "mimetype": "text/x-python",
   "name": "python",
   "nbconvert_exporter": "python",
   "pygments_lexer": "ipython3",
   "version": "3.11.7"
  }
 },
 "nbformat": 4,
 "nbformat_minor": 2
}
