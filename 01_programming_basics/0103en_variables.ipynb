{
 "cells": [
  {
   "cell_type": "markdown",
   "metadata": {},
   "source": [
    "# Variables\n",
    "\n",
    "In programming, variables are like containers that hold data or values. They allow you to store and manipulate information in your program. Python is a dynamically typed language, which means you don't need to explicitly declare the type of a variable.\n",
    "\n",
    "To create a variable in Python, you simply choose a name for it and assign it a value using the equal sign (`=`). Here's an example:"
   ]
  },
  {
   "cell_type": "code",
   "execution_count": 1,
   "metadata": {},
   "outputs": [
    {
     "name": "stdout",
     "output_type": "stream",
     "text": [
      "25\n"
     ]
    }
   ],
   "source": [
    "age = 25    # setting the integer value of 25 to the \n",
    "            # variable named `age`\n",
    "print(age)  # printing the value of the variable `age`"
   ]
  },
  {
   "cell_type": "markdown",
   "metadata": {},
   "source": [
    "In this example, `age` is the variable name, and `25` is the value assigned to it."
   ]
  },
  {
   "cell_type": "markdown",
   "metadata": {},
   "source": [
    "### Quick Assignment 1\n",
    "\n",
    "Assign a positive numeric value to a variable, then print it."
   ]
  },
  {
   "cell_type": "code",
   "execution_count": 1,
   "metadata": {},
   "outputs": [
    {
     "name": "stdout",
     "output_type": "stream",
     "text": [
      "8\n"
     ]
    }
   ],
   "source": [
    "number = 8\n",
    "print(number)"
   ]
  },
  {
   "cell_type": "markdown",
   "metadata": {},
   "source": [
    "---\n",
    "\n",
    "## Variable Types"
   ]
  },
  {
   "cell_type": "markdown",
   "metadata": {},
   "source": [
    "Python allows you to use different data types for variables, such as integers (whole numbers), floats (decimal numbers), strings (text), Boolean values (True or False), and more. The type of a variable is determined by the value it holds:"
   ]
  },
  {
   "cell_type": "code",
   "execution_count": 2,
   "metadata": {},
   "outputs": [
    {
     "name": "stdout",
     "output_type": "stream",
     "text": [
      "25\n"
     ]
    }
   ],
   "source": [
    "# an integer variable\n",
    "age = 25\n",
    "print(age)"
   ]
  },
  {
   "cell_type": "code",
   "execution_count": 3,
   "metadata": {},
   "outputs": [
    {
     "name": "stdout",
     "output_type": "stream",
     "text": [
      "1.75\n"
     ]
    }
   ],
   "source": [
    "# a float variable\n",
    "height = 1.75\n",
    "print(height)"
   ]
  },
  {
   "cell_type": "code",
   "execution_count": 4,
   "metadata": {},
   "outputs": [
    {
     "name": "stdout",
     "output_type": "stream",
     "text": [
      "John\n"
     ]
    }
   ],
   "source": [
    "# a string variable\n",
    "first_name = \"John\"     # note: underscore is OK here.\n",
    "print(first_name)"
   ]
  },
  {
   "cell_type": "code",
   "execution_count": 5,
   "metadata": {},
   "outputs": [
    {
     "name": "stdout",
     "output_type": "stream",
     "text": [
      "True\n"
     ]
    }
   ],
   "source": [
    "# a Boolean variable\n",
    "is_student = True\n",
    "print(is_student)"
   ]
  },
  {
   "cell_type": "markdown",
   "metadata": {},
   "source": [
    "Variables can be updated by assigning them a new value at any point in your program. For example:"
   ]
  },
  {
   "cell_type": "code",
   "execution_count": 6,
   "metadata": {},
   "outputs": [
    {
     "name": "stdout",
     "output_type": "stream",
     "text": [
      "26\n"
     ]
    }
   ],
   "source": [
    "age = 25        # initial value\n",
    "age = age + 1   # updating the value by adding 1\n",
    "print(age)      # will output: 26"
   ]
  },
  {
   "cell_type": "markdown",
   "metadata": {},
   "source": [
    "You can also perform operations on variables, combine them into expressions, and use their values in calculations. You can also reassign variables with the values of different type, example:"
   ]
  },
  {
   "cell_type": "code",
   "execution_count": 7,
   "metadata": {},
   "outputs": [
    {
     "name": "stdout",
     "output_type": "stream",
     "text": [
      "5\n",
      "not a number\n"
     ]
    }
   ],
   "source": [
    "variable = 5\n",
    "print(variable)\n",
    "variable = \"not a number\"\n",
    "print(variable)"
   ]
  },
  {
   "cell_type": "markdown",
   "metadata": {},
   "source": [
    "However, this is not advised practice even if it works, because it will make your code harder to understand and maintain. However, sometimes it might be unavoidable.\n",
    "\n",
    "### Quick Assignment 2"
   ]
  },
  {
   "cell_type": "markdown",
   "metadata": {},
   "source": [
    "Assign a few variables of different types. Print their results. \n",
    "\n",
    "💡 Useful Note: `print()` function accepts multiple comma separated arguments"
   ]
  },
  {
   "cell_type": "code",
   "execution_count": 2,
   "metadata": {},
   "outputs": [
    {
     "name": "stdout",
     "output_type": "stream",
     "text": [
      "8 astuoni 8.8 False\n"
     ]
    }
   ],
   "source": [
    "number = 8\n",
    "word = 'astuoni'\n",
    "number_float = 8.8\n",
    "boolean = False\n",
    "print(number, word, number_float, boolean)"
   ]
  },
  {
   "cell_type": "markdown",
   "metadata": {},
   "source": [
    "---\n",
    "\n",
    "## Variable Reassignment\n",
    "\n",
    "Variable can be reassigned to another variable. Here is the example:"
   ]
  },
  {
   "cell_type": "code",
   "execution_count": 8,
   "metadata": {},
   "outputs": [
    {
     "name": "stdout",
     "output_type": "stream",
     "text": [
      "5 5\n"
     ]
    }
   ],
   "source": [
    "number1 = 5\n",
    "number2 = number1\n",
    "print(number1, number2)\n",
    "# both numbers will be 5"
   ]
  },
  {
   "cell_type": "code",
   "execution_count": 9,
   "metadata": {},
   "outputs": [
    {
     "name": "stdout",
     "output_type": "stream",
     "text": [
      "10 5\n"
     ]
    }
   ],
   "source": [
    "number1 = 10\n",
    "print(number1, number2)\n",
    "# while number1 will be set to 10, number2 will still be 5"
   ]
  },
  {
   "cell_type": "markdown",
   "metadata": {},
   "source": [
    "### Quick Assignment 3"
   ]
  },
  {
   "cell_type": "markdown",
   "metadata": {},
   "source": [
    "Set any value to a variable, then reassign it to another variable, and change the value of the old one. Print both variables before and after reassignment."
   ]
  },
  {
   "cell_type": "code",
   "execution_count": 3,
   "metadata": {},
   "outputs": [
    {
     "name": "stdout",
     "output_type": "stream",
     "text": [
      "8\n",
      "astuoni\n"
     ]
    }
   ],
   "source": [
    "skaicius = 8\n",
    "print(skaicius)\n",
    "skaicius = 'astuoni'\n",
    "print(skaicius)"
   ]
  },
  {
   "cell_type": "markdown",
   "metadata": {},
   "source": [
    "---\n",
    "\n",
    "## Numeric Variable Types"
   ]
  },
  {
   "cell_type": "markdown",
   "metadata": {},
   "source": [
    "In Python, integers (`int`) and floats (`float`) are two common numeric variable types. They differ in their representation and handling of numbers."
   ]
  },
  {
   "cell_type": "markdown",
   "metadata": {},
   "source": [
    "### Integer (`int`)\n",
    "\n",
    "Integers are whole numbers without any decimal points. They can be positive or negative."
   ]
  },
  {
   "cell_type": "code",
   "execution_count": 10,
   "metadata": {},
   "outputs": [
    {
     "name": "stdout",
     "output_type": "stream",
     "text": [
      "25 -10 100\n"
     ]
    }
   ],
   "source": [
    "age = 25                # A positive integer\n",
    "temperature = -10       # A negative integer\n",
    "students_count = 100    # Another positive integer\n",
    "print(age, temperature, students_count)"
   ]
  },
  {
   "cell_type": "markdown",
   "metadata": {},
   "source": [
    "In the above examples, `age` represents a person's age, `temperature` represents a negative temperature value, and `students_count` represents the number of students."
   ]
  },
  {
   "cell_type": "markdown",
   "metadata": {},
   "source": [
    "### Float (`float`)\n",
    "\n",
    "Floats are numbers that have decimal points or fractional parts. They can also be positive or negative."
   ]
  },
  {
   "cell_type": "code",
   "execution_count": 11,
   "metadata": {},
   "outputs": [
    {
     "name": "stdout",
     "output_type": "stream",
     "text": [
      "64.5 3.14159 -2500.75\n"
     ]
    }
   ],
   "source": [
    "weight = 64.5               # A positive floating-point number\n",
    "PI = 3.14159                # Another positive floating-point number\n",
    "bank_balance = -2500.75     # A negative floating-point number\n",
    "print(weight, PI, bank_balance)"
   ]
  },
  {
   "cell_type": "markdown",
   "metadata": {},
   "source": [
    "In this example, `weight` represents someone's weight in kilograms, `PI` represents the mathematical constant π (pi), and `bank_balance` represents a negative bank balance.\n",
    "\n",
    "Integer variables can only represent whole numbers, while float variables offer greater precision and can represent fractional parts.\n",
    "\n",
    "It's essential to choose the appropriate variable type (int or float) based on the nature of the number you are working with to ensure accurate calculations and proper representation of the data.\n",
    "\n",
    "While floats are more flexible, operations with integers have much higher performance. Especially for iterations."
   ]
  },
  {
   "cell_type": "markdown",
   "metadata": {},
   "source": [
    "### Quick Assignment 4"
   ]
  },
  {
   "cell_type": "markdown",
   "metadata": {},
   "source": [
    "Set a few integer and float variables and print them."
   ]
  },
  {
   "cell_type": "code",
   "execution_count": 4,
   "metadata": {},
   "outputs": [
    {
     "name": "stdout",
     "output_type": "stream",
     "text": [
      "Amžius = 29 Svoris 79.5 Ūgis 1.74 Sąrašo numeris 8\n"
     ]
    }
   ],
   "source": [
    "age = 29\n",
    "weight = 79.5\n",
    "height = 1.74\n",
    "number_in_list = 8\n",
    "print('Amžius =',age, 'Svoris', weight, 'Ūgis', height, 'Sąrašo numeris', number_in_list)"
   ]
  },
  {
   "cell_type": "markdown",
   "metadata": {},
   "source": [
    "---\n",
    "\n",
    "## Checking the type of a variable"
   ]
  },
  {
   "cell_type": "markdown",
   "metadata": {},
   "source": [
    "To check the type of a variable in Python, you can use the built-in function `type()`. The `type()` function returns the type of an object or variable.\n",
    "\n",
    "Here's how you can use it:"
   ]
  },
  {
   "cell_type": "code",
   "execution_count": 8,
   "metadata": {},
   "outputs": [
    {
     "name": "stdout",
     "output_type": "stream",
     "text": [
      "<class 'int'>\n"
     ]
    }
   ],
   "source": [
    "age = 25\n",
    "print(type(age))        # Output: <class 'int'>"
   ]
  },
  {
   "cell_type": "code",
   "execution_count": 9,
   "metadata": {},
   "outputs": [
    {
     "name": "stdout",
     "output_type": "stream",
     "text": [
      "<class 'float'>\n"
     ]
    }
   ],
   "source": [
    "weight = 64.5\n",
    "print(type(weight))     # Output: <class 'float'>"
   ]
  },
  {
   "cell_type": "code",
   "execution_count": 10,
   "metadata": {},
   "outputs": [
    {
     "name": "stdout",
     "output_type": "stream",
     "text": [
      "<class 'str'>\n"
     ]
    }
   ],
   "source": [
    "first_name = \"John\"\n",
    "print(type(first_name))       # Output: <class 'str'>"
   ]
  },
  {
   "cell_type": "code",
   "execution_count": 11,
   "metadata": {},
   "outputs": [
    {
     "name": "stdout",
     "output_type": "stream",
     "text": [
      "<class 'bool'>\n"
     ]
    }
   ],
   "source": [
    "is_student = True\n",
    "print(type(is_student)) # Output: <class 'bool'>"
   ]
  },
  {
   "cell_type": "markdown",
   "metadata": {},
   "source": [
    "In this example, we have four variables of different types: `age` (integer), `weight` (float), `name` (string), and `is_student` (boolean). By applying the `type()` function to each variable and printing the result, we can determine the specific type of each variable.\n",
    "\n",
    "The output of the `type()` function is displayed in the form of `<class 'typename'>`, where `'typename'` represents the specific type of the variable.\n",
    "\n",
    "Using `type()` allows you to dynamically identify the type of a variable during runtime, which can be helpful during debugging or when working with code that involves different data types.\n",
    "\n",
    "If you want a more human readable representation of the type object, you can use it's `__name__` property. Examples:"
   ]
  },
  {
   "cell_type": "code",
   "execution_count": 16,
   "metadata": {},
   "outputs": [
    {
     "name": "stdout",
     "output_type": "stream",
     "text": [
      "str\n",
      "bool\n"
     ]
    }
   ],
   "source": [
    "print(type(first_name).__name__)\n",
    "print(type(is_student).__name__)"
   ]
  },
  {
   "cell_type": "markdown",
   "metadata": {},
   "source": [
    "### Quick Assignment 5\n",
    "\n",
    "Print the types of variables defined in previous assignments. Also try to print pretty human readable names of such types."
   ]
  },
  {
   "cell_type": "code",
   "execution_count": 5,
   "metadata": {},
   "outputs": [
    {
     "name": "stdout",
     "output_type": "stream",
     "text": [
      "int\n",
      "float\n",
      "float\n",
      "int\n"
     ]
    }
   ],
   "source": [
    "print(type(age).__name__)\n",
    "print(type(weight).__name__)\n",
    "print(type(height).__name__)\n",
    "print(type(number_in_list).__name__)"
   ]
  },
  {
   "cell_type": "markdown",
   "metadata": {},
   "source": [
    "---\n",
    "\n",
    "## Variable Naming Rules and Exceptions"
   ]
  },
  {
   "cell_type": "markdown",
   "metadata": {},
   "source": [
    "When naming a variable in Python, you need to adhere to certain rules and conventions. Here are the key guidelines for variable names:\n",
    "\n",
    "1. Variable names must begin with a letter `a-z`, `A-Z` or an underscore `_` character. They cannot start with a number or special characters. Examples: `name`, `_count`, `result`. Variable names like `1st_place_winner` are invalid.\n",
    "\n",
    "1. Variable names can contain letters (a-z, A-Z), numbers (0-9), and underscores (_). They are case-sensitive, so `age` and `Age` would be considered different variables. Examples of good variable names: `age`, `num_of_students`, `total_sum`, `player1`.\n",
    "\n",
    "Here is also the example of how it is easy to make a mistake by not following a strict naming convention"
   ]
  },
  {
   "cell_type": "code",
   "execution_count": 17,
   "metadata": {},
   "outputs": [
    {
     "name": "stdout",
     "output_type": "stream",
     "text": [
      "25 77\n"
     ]
    }
   ],
   "source": [
    "age = 25\n",
    "Age = 77\n",
    "print(age, Age)"
   ]
  },
  {
   "cell_type": "markdown",
   "metadata": {},
   "source": [
    "3. Reserved words, also known as keywords, are words that are part of the language's syntax. They have a specific meaning and purpose, and thus cannot be used as variable names. Examples include `if`, `for`, `while`, `print`, etc. By assigning variables to such reserved words will override the functions of these keywords and will cripple the programming language's base functionality.\n",
    "\n",
    "1. Choose descriptive and meaningful names for variables to enhance code readability and understandability. For example, use `is_student` for boolean type variable.\n",
    "\n",
    "1. Use lowercase letters and underscores for multi-word variable names to improve readability. This convention is known as snake_case. Example: `num_of_students`, `first_name`\n",
    "\n",
    "1. While not required, it's common practice to use all uppercase letters for constants, variables whose values won't change throughout the program execution. Example: `PI = 3.14`, `DEFAULT_LANGUAGE = 'en-us'`\n",
    "\n",
    "It's important to note that Python does not allow the use of special characters like `$` or `#` in variable names, and it is generally advisable to stick to the standard naming conventions to avoid confusion and maintain code consistency."
   ]
  },
  {
   "cell_type": "markdown",
   "metadata": {},
   "source": [
    "### Quick Assignment 6 (exploratory)"
   ]
  },
  {
   "cell_type": "markdown",
   "metadata": {},
   "source": [
    "Purposefully try using reserved words as variable names. Observe the error messages you get. This will give you a practical understanding of why these words are reserved."
   ]
  },
  {
   "cell_type": "code",
   "execution_count": 21,
   "metadata": {},
   "outputs": [
    {
     "ename": "TypeError",
     "evalue": "'str' object is not callable",
     "output_type": "error",
     "traceback": [
      "\u001b[1;31m---------------------------------------------------------------------------\u001b[0m",
      "\u001b[1;31mTypeError\u001b[0m                                 Traceback (most recent call last)",
      "Cell \u001b[1;32mIn[21], line 2\u001b[0m\n\u001b[0;32m      1\u001b[0m \u001b[38;5;28mprint\u001b[39m \u001b[38;5;241m=\u001b[39m \u001b[38;5;124m'\u001b[39m\u001b[38;5;124mspausdint\u001b[39m\u001b[38;5;124m'\u001b[39m\n\u001b[1;32m----> 2\u001b[0m \u001b[38;5;28;43mprint\u001b[39;49m\u001b[43m(\u001b[49m\u001b[38;5;28;43mprint\u001b[39;49m\u001b[43m)\u001b[49m\n",
      "\u001b[1;31mTypeError\u001b[0m: 'str' object is not callable"
     ]
    }
   ],
   "source": [
    "#print = 'spausdint'\n",
    "#print(print)"
   ]
  },
  {
   "cell_type": "markdown",
   "metadata": {},
   "source": [
    "### Quick Assignment 7 (exploratory)"
   ]
  },
  {
   "cell_type": "markdown",
   "metadata": {},
   "source": [
    "Please explain why the code below returns False?"
   ]
  },
  {
   "cell_type": "code",
   "execution_count": 17,
   "metadata": {},
   "outputs": [
    {
     "name": "stdout",
     "output_type": "stream",
     "text": [
      "False\n",
      "True\n",
      "True\n"
     ]
    }
   ],
   "source": [
    "str = \"some funny text\"\n",
    "print(type(str) == str)\n",
    "#Bandoma palyginti kintamojo tipą ir kintamąjį. Kadangi kintamojo tipas ir kintamasis skiriasi, jie nėra lygūs vienas kitam.\n",
    "print(type(str) == type(str))\n",
    "#Lyginant tipą su kintamojo tipą su kintamojo tipu, gauname atsakymą True, nes kintamojo tipas sutampa su kintamojo tipu.\n",
    "str_1 = 'tekstinis kintamasis'\n",
    "str_2 = 'kintamasis tekstinis'\n",
    "print(type(str_1) == type(str_2))\n",
    "#Nors kintamųjų reikšmės skiriasi, jų abiejų tipas yra \"str\" - string, reiškiasi tipai sutampa, gauname išvestį True\n"
   ]
  },
  {
   "cell_type": "markdown",
   "metadata": {},
   "source": [
    "💡Note: it is a good idea to restart Jupyter karnel after such experiments, because Python interpreter behavior will be crippled depending on what variable names you've tried."
   ]
  },
  {
   "cell_type": "markdown",
   "metadata": {},
   "source": [
    "\n",
    "### Additional tips\n",
    "\n",
    "- Variable names should be self-explanatory to make the code more readable. For instance, instead of generic names like `x` or `temp`, choose more meaningful names like `counter` or `temperature`.\n",
    "\n",
    "- It's a good practice to use plural nouns for variables representing collections. For instance, use `fruits` instead of `fruit` if it contains multiple fruits.\n",
    "\n",
    "By following these naming guidelines, your code will become more understandable and maintainable, both for yourself and for others who read your code."
   ]
  },
  {
   "cell_type": "markdown",
   "metadata": {},
   "source": [
    "## Practical Assignment for recap\n",
    "\n",
    "1. Create a variable and assign a number to it, then print out the variable's value"
   ]
  },
  {
   "cell_type": "code",
   "execution_count": null,
   "metadata": {},
   "outputs": [],
   "source": []
  },
  {
   "cell_type": "markdown",
   "metadata": {},
   "source": [
    "2. Add a negative number to the above variable and print the resulting value"
   ]
  },
  {
   "cell_type": "code",
   "execution_count": null,
   "metadata": {},
   "outputs": [],
   "source": []
  },
  {
   "cell_type": "markdown",
   "metadata": {},
   "source": [
    "3. Create a floating point variable, print it's value, then add it to the variables from the above tasks and print the results"
   ]
  },
  {
   "cell_type": "code",
   "execution_count": null,
   "metadata": {},
   "outputs": [],
   "source": []
  },
  {
   "cell_type": "markdown",
   "metadata": {},
   "source": [
    "4. Print out the type names of the variables created during the assignments 1-3."
   ]
  },
  {
   "cell_type": "code",
   "execution_count": null,
   "metadata": {},
   "outputs": [],
   "source": []
  },
  {
   "cell_type": "markdown",
   "metadata": {},
   "source": [
    "---\n",
    "\n",
    "## Additional Resources"
   ]
  },
  {
   "cell_type": "markdown",
   "metadata": {},
   "source": [
    "- More exercises at [LearnPython.org](https://www.learnpython.org/en/Variables_and_Types)\n",
    "- Official [Python Reference](https://docs.python.org/3/library/index.html). Even if not the easiest to understand for you right away, will prove essential in the future."
   ]
  }
 ],
 "metadata": {
  "kernelspec": {
   "display_name": "venv",
   "language": "python",
   "name": "python3"
  },
  "language_info": {
   "codemirror_mode": {
    "name": "ipython",
    "version": 3
   },
   "file_extension": ".py",
   "mimetype": "text/x-python",
   "name": "python",
   "nbconvert_exporter": "python",
   "pygments_lexer": "ipython3",
   "version": "3.11.7"
  },
  "orig_nbformat": 4
 },
 "nbformat": 4,
 "nbformat_minor": 2
}
