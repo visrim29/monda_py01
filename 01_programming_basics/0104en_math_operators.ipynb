{
 "cells": [
  {
   "cell_type": "markdown",
   "metadata": {},
   "source": [
    "# Math Operators"
   ]
  },
  {
   "cell_type": "markdown",
   "metadata": {},
   "source": [
    "In Python, you can perform various operations with numbers, such as addition, subtraction, multiplication, division, and more. Let's explore some of the basic operations using numbers\n",
    "\n",
    "---"
   ]
  },
  {
   "cell_type": "markdown",
   "metadata": {},
   "source": [
    "## Addition `+`\n",
    "\n",
    "The addition operator allows you to add two or more numbers together."
   ]
  },
  {
   "cell_type": "code",
   "execution_count": 19,
   "metadata": {},
   "outputs": [
    {
     "name": "stdout",
     "output_type": "stream",
     "text": [
      "8\n"
     ]
    }
   ],
   "source": [
    "result = 5 + 3\n",
    "print(result)"
   ]
  },
  {
   "cell_type": "code",
   "execution_count": 20,
   "metadata": {},
   "outputs": [
    {
     "name": "stdout",
     "output_type": "stream",
     "text": [
      "42\n"
     ]
    }
   ],
   "source": [
    "result = 7 + 9 + 11 + 8 + 7\n",
    "print(result)"
   ]
  },
  {
   "cell_type": "markdown",
   "metadata": {},
   "source": [
    "### Quick assignment 1:\n",
    "add a few numbers and output the result"
   ]
  },
  {
   "cell_type": "code",
   "execution_count": null,
   "metadata": {},
   "outputs": [],
   "source": []
  },
  {
   "cell_type": "markdown",
   "metadata": {},
   "source": [
    "### Quick assignment 2\n",
    "\n",
    "Create a few numeric variables, then add them together, and then add 5 to that result. Output the final result."
   ]
  },
  {
   "cell_type": "code",
   "execution_count": null,
   "metadata": {},
   "outputs": [],
   "source": []
  },
  {
   "cell_type": "markdown",
   "metadata": {},
   "source": [
    "---\n",
    "\n",
    "## Subtraction `-`\n",
    "\n",
    "The subtraction operator subtracts one number from another."
   ]
  },
  {
   "cell_type": "code",
   "execution_count": 21,
   "metadata": {},
   "outputs": [
    {
     "name": "stdout",
     "output_type": "stream",
     "text": [
      "3\n"
     ]
    }
   ],
   "source": [
    "result = 10 - 7\n",
    "print(result)"
   ]
  },
  {
   "cell_type": "markdown",
   "metadata": {},
   "source": [
    "You can also subtract more than one number, as with addition:"
   ]
  },
  {
   "cell_type": "code",
   "execution_count": 22,
   "metadata": {},
   "outputs": [
    {
     "name": "stdout",
     "output_type": "stream",
     "text": [
      "0\n"
     ]
    }
   ],
   "source": [
    "result = 6 - 3 - 2 - 1\n",
    "print(result)"
   ]
  },
  {
   "cell_type": "markdown",
   "metadata": {},
   "source": [
    "### Quick assignment 3\n",
    "\n",
    "Subtract a number from another number and print out the result"
   ]
  },
  {
   "cell_type": "code",
   "execution_count": null,
   "metadata": {},
   "outputs": [],
   "source": []
  },
  {
   "cell_type": "markdown",
   "metadata": {},
   "source": [
    "### Quick assignment 4\n",
    "\n",
    "Assign a few numeric variables, then print out their difference."
   ]
  },
  {
   "cell_type": "code",
   "execution_count": null,
   "metadata": {},
   "outputs": [],
   "source": []
  },
  {
   "cell_type": "markdown",
   "metadata": {},
   "source": [
    "---\n",
    "\n",
    "## Multiplication `*`\n",
    "\n",
    "The multiplication operator multiplies two or more numbers."
   ]
  },
  {
   "cell_type": "code",
   "execution_count": 23,
   "metadata": {},
   "outputs": [
    {
     "name": "stdout",
     "output_type": "stream",
     "text": [
      "8\n"
     ]
    }
   ],
   "source": [
    "result = 4 * 2\n",
    "print(result)"
   ]
  },
  {
   "cell_type": "code",
   "execution_count": 24,
   "metadata": {},
   "outputs": [
    {
     "name": "stdout",
     "output_type": "stream",
     "text": [
      "16\n"
     ]
    }
   ],
   "source": [
    "result = 2 * 2 * 2 * 2\n",
    "print(result)"
   ]
  },
  {
   "cell_type": "markdown",
   "metadata": {},
   "source": [
    "### Quick assignment 5\n",
    "\n",
    "Multiply a few numbers and print the result"
   ]
  },
  {
   "cell_type": "code",
   "execution_count": null,
   "metadata": {},
   "outputs": [],
   "source": []
  },
  {
   "cell_type": "markdown",
   "metadata": {},
   "source": [
    "### Quick assignment 6\n",
    "\n",
    "Assign a number to a variable, then multiply that variable by 10 twice and print the result"
   ]
  },
  {
   "cell_type": "code",
   "execution_count": null,
   "metadata": {},
   "outputs": [],
   "source": []
  },
  {
   "cell_type": "markdown",
   "metadata": {},
   "source": [
    "---\n",
    "\n",
    "## Division `/` and Floor division `//`\n",
    "\n",
    "The division operator `/` divides one number by another."
   ]
  },
  {
   "cell_type": "code",
   "execution_count": 25,
   "metadata": {},
   "outputs": [
    {
     "name": "stdout",
     "output_type": "stream",
     "text": [
      "2.0\n"
     ]
    }
   ],
   "source": [
    "result_whole = 10 / 5\n",
    "print(result_whole)"
   ]
  },
  {
   "cell_type": "code",
   "execution_count": 26,
   "metadata": {},
   "outputs": [
    {
     "name": "stdout",
     "output_type": "stream",
     "text": [
      "3.3333333333333335\n"
     ]
    }
   ],
   "source": [
    "result_float = 10 / 3\n",
    "print(result_float)"
   ]
  },
  {
   "cell_type": "markdown",
   "metadata": {},
   "source": [
    "Note that the above result type is always a float, even when dividing two integers, and even if the resulting value is a whole number."
   ]
  },
  {
   "cell_type": "code",
   "execution_count": 27,
   "metadata": {},
   "outputs": [
    {
     "name": "stdout",
     "output_type": "stream",
     "text": [
      "<class 'float'>\n"
     ]
    }
   ],
   "source": [
    "print(type(result_whole))"
   ]
  },
  {
   "cell_type": "markdown",
   "metadata": {},
   "source": [
    "The floor division operator `//` divides one number by another, discarding any fractional part and returning an integer result. Naturally, the result is rounded down."
   ]
  },
  {
   "cell_type": "code",
   "execution_count": 28,
   "metadata": {},
   "outputs": [
    {
     "name": "stdout",
     "output_type": "stream",
     "text": [
      "3 <class 'int'>\n"
     ]
    }
   ],
   "source": [
    "result_int = 10 // 3\n",
    "print(result_int, type(result_int))"
   ]
  },
  {
   "cell_type": "markdown",
   "metadata": {},
   "source": [
    "### Quick assignment 7\n",
    "\n",
    "Divide a number by another number but 0, and print the result"
   ]
  },
  {
   "cell_type": "code",
   "execution_count": null,
   "metadata": {},
   "outputs": [],
   "source": []
  },
  {
   "cell_type": "markdown",
   "metadata": {},
   "source": [
    "### Quick assignment 8\n",
    "\n",
    "Assign two numeric variables and divide one from another. Print the result. Divide the result again and then print the new result."
   ]
  },
  {
   "cell_type": "code",
   "execution_count": null,
   "metadata": {},
   "outputs": [],
   "source": []
  },
  {
   "cell_type": "markdown",
   "metadata": {},
   "source": [
    "### Quick assignment 9\n",
    "\n",
    "Divide 100 by 3 twice using floor division operator and print the result."
   ]
  },
  {
   "cell_type": "code",
   "execution_count": null,
   "metadata": {},
   "outputs": [],
   "source": []
  },
  {
   "cell_type": "markdown",
   "metadata": {},
   "source": [
    "---\n",
    "\n",
    "## Modulo `%`\n",
    "\n",
    "The modulo operator `%` calculates the remainder when one number is divided by another."
   ]
  },
  {
   "cell_type": "code",
   "execution_count": 29,
   "metadata": {},
   "outputs": [
    {
     "name": "stdout",
     "output_type": "stream",
     "text": [
      "1\n"
     ]
    }
   ],
   "source": [
    "result = 10 % 3\n",
    "print(result)"
   ]
  },
  {
   "cell_type": "markdown",
   "metadata": {},
   "source": [
    "### Quick assignment 10\n",
    "\n",
    "assign a number to variable. Now find the remainder when we divide that number by 5 and print it out."
   ]
  },
  {
   "cell_type": "code",
   "execution_count": null,
   "metadata": {},
   "outputs": [],
   "source": []
  },
  {
   "cell_type": "markdown",
   "metadata": {},
   "source": [
    "---\n",
    "\n",
    "## Exponentiation `**`\n",
    "\n",
    "The exponentiation operator raises a number to the power of another number."
   ]
  },
  {
   "cell_type": "code",
   "execution_count": 30,
   "metadata": {},
   "outputs": [
    {
     "name": "stdout",
     "output_type": "stream",
     "text": [
      "8\n"
     ]
    }
   ],
   "source": [
    "result = 2 ** 3\n",
    "print(result)"
   ]
  },
  {
   "cell_type": "code",
   "execution_count": 31,
   "metadata": {},
   "outputs": [
    {
     "name": "stdout",
     "output_type": "stream",
     "text": [
      "1024\n"
     ]
    }
   ],
   "source": [
    "result = 2 ** 10\n",
    "print(result)"
   ]
  },
  {
   "cell_type": "markdown",
   "metadata": {},
   "source": [
    "### Quick assignment 11\n",
    "\n",
    "Print the cube of 17"
   ]
  },
  {
   "cell_type": "code",
   "execution_count": null,
   "metadata": {},
   "outputs": [],
   "source": []
  },
  {
   "cell_type": "markdown",
   "metadata": {},
   "source": [
    "It is worth noting, that it is possible to raise the number by fractional power. For example, raising by 0.5 you can get a square root of a number."
   ]
  },
  {
   "cell_type": "code",
   "execution_count": 32,
   "metadata": {},
   "outputs": [
    {
     "name": "stdout",
     "output_type": "stream",
     "text": [
      "6.0\n"
     ]
    }
   ],
   "source": [
    "square_root = 36 ** 0.5\n",
    "print(square_root)"
   ]
  },
  {
   "cell_type": "markdown",
   "metadata": {},
   "source": [
    "### Quick assignment 12\n",
    "\n",
    "Print the square root of 25. Also print the data type of the result."
   ]
  },
  {
   "cell_type": "code",
   "execution_count": null,
   "metadata": {},
   "outputs": [],
   "source": []
  },
  {
   "cell_type": "markdown",
   "metadata": {},
   "source": [
    "---\n",
    "\n",
    "## Operator precedence and precedence control"
   ]
  },
  {
   "cell_type": "markdown",
   "metadata": {},
   "source": [
    "Operator order of execution, also known as operator precedence, determines the sequence in which different operators are evaluated in an expression. This precedence is important as it affects the outcome and accuracy of expressions involving multiple operators.\n",
    "\n",
    "In Python, operator precedence follows a specific order:\n",
    "\n",
    "1. Parentheses: Expressions within parentheses are evaluated first. This allows you to prioritize certain calculations or clarify the intended order of operations.\n",
    "2. Exponentiation: The `**` operator is evaluated next. It raises the value on the left to the power of the value on the right.\n",
    "3. Multiplication, Division, and Floor Division: The `*`, `/`, and `//` operators are evaluated from left to right based on their occurrence in the expression.\n",
    "4. Addition and Subtraction: The `+` and `-` operators are evaluated from left to right based on their occurrence in the expression.\n",
    "\n",
    "It's essential to keep this order of execution in mind when writing complex expressions to ensure that the operations are performed correctly. However, if you want to change the default order, you can use parentheses to explicitly define the desired evaluation sequence.\n",
    "\n",
    "For example:"
   ]
  },
  {
   "cell_type": "code",
   "execution_count": 33,
   "metadata": {},
   "outputs": [
    {
     "name": "stdout",
     "output_type": "stream",
     "text": [
      "14\n"
     ]
    }
   ],
   "source": [
    "result = 2 + 3 * 4\n",
    "print(result) "
   ]
  },
  {
   "cell_type": "markdown",
   "metadata": {},
   "source": [
    "In this case, even though addition comes before multiplication, multiplication has a higher precedence. Therefore, Python evaluates `3 * 4` first and then adds 2 to the result.\n",
    "\n",
    "To ensure addition is performed before multiplication, we can use parentheses:"
   ]
  },
  {
   "cell_type": "code",
   "execution_count": 34,
   "metadata": {},
   "outputs": [
    {
     "name": "stdout",
     "output_type": "stream",
     "text": [
      "20\n"
     ]
    }
   ],
   "source": [
    "result = (2 + 3) * 4\n",
    "print(result)"
   ]
  },
  {
   "cell_type": "markdown",
   "metadata": {},
   "source": [
    "Now, the expression within the parentheses `(2 + 3)` is evaluated first, resulting in 5. Then, Python performs the multiplication with 4, yielding a result of 20."
   ]
  },
  {
   "cell_type": "markdown",
   "metadata": {},
   "source": [
    "### Quick assignment 13\n",
    "\n",
    "Let's say you took an hour to walk 5 km, then another hour to go by bus 30 km, and then half an hour to walk another 3 km. Print your average speed."
   ]
  },
  {
   "cell_type": "code",
   "execution_count": null,
   "metadata": {},
   "outputs": [],
   "source": []
  },
  {
   "cell_type": "markdown",
   "metadata": {},
   "source": [
    "Now do the above in as much as possible optimized code line."
   ]
  },
  {
   "cell_type": "code",
   "execution_count": null,
   "metadata": {},
   "outputs": [],
   "source": []
  },
  {
   "cell_type": "markdown",
   "metadata": {},
   "source": [
    "---\n",
    "\n",
    "## Nested parentheses"
   ]
  },
  {
   "cell_type": "markdown",
   "metadata": {},
   "source": [
    "Using parentheses nesting `( )` allows you to control the order of operations and perform calculations within specific groups. For example:"
   ]
  },
  {
   "cell_type": "code",
   "execution_count": 35,
   "metadata": {},
   "outputs": [
    {
     "name": "stdout",
     "output_type": "stream",
     "text": [
      "6\n"
     ]
    }
   ],
   "source": [
    "result = (10 + 2) * (4 - 1) // ((2 + 1) * 2)\n",
    "print(result)"
   ]
  },
  {
   "cell_type": "markdown",
   "metadata": {},
   "source": [
    "### Quick assignment 14\n",
    "\n",
    "Create a complex calculation, by using different math operators and nested order groups. Use your imagination. Physics background might be handy here."
   ]
  },
  {
   "cell_type": "code",
   "execution_count": null,
   "metadata": {},
   "outputs": [],
   "source": []
  },
  {
   "cell_type": "markdown",
   "metadata": {},
   "source": [
    "---\n",
    "\n",
    "## Compound Assignment Operators"
   ]
  },
  {
   "cell_type": "markdown",
   "metadata": {},
   "source": [
    "Compound assignment operators are shorthand methods to perform an operation on a variable's value and then assign the result back to that variable. They are useful when you want to modify a variable's value without having to type the variable's name twice.\n",
    "\n",
    "Here's a breakdown of the most commonly used compound assignment operators:\n",
    "\n",
    "| Operator | Shorthand for   | Example   | Equivalent to |\n",
    "|----------|-----------------|-----------|---------------|\n",
    "| `+=`     | `x = x + y`     | `x += y`  | `x = x + y`   |\n",
    "| `-=`     | `x = x - y`     | `x -= y`  | `x = x - y`   |\n",
    "| `*=`     | `x = x * y`     | `x *= y`  | `x = x * y`   |\n",
    "| `/=`     | `x = x / y`     | `x /= y`  | `x = x / y`   |\n",
    "| `%=`     | `x = x % y`     | `x %= y`  | `x = x % y`   |\n",
    "| `**=`    | `x = x ** y`    | `x **= y` | `x = x ** y`  |\n",
    "| `//=`    | `x = x // y`    | `x //= y` | `x = x // y`  |\n",
    "\n",
    "### Examples:"
   ]
  },
  {
   "cell_type": "code",
   "execution_count": 36,
   "metadata": {},
   "outputs": [
    {
     "name": "stdout",
     "output_type": "stream",
     "text": [
      "8\n",
      "16\n"
     ]
    }
   ],
   "source": [
    "x = 5\n",
    "x += 3  # equivalent to x = x + 3\n",
    "print(x)  # Output: 8\n",
    "\n",
    "x *= 2  # equivalent to x = x * 2\n",
    "print(x)  # Output: 16"
   ]
  },
  {
   "cell_type": "markdown",
   "metadata": {},
   "source": [
    "### Quick Note:\n",
    "\n",
    "Python does not have increment (++) and decrement (--) operators. If you're coming from languages like C, C++, or Java, this might be surprising. Instead of `x++` or `x--`, you'd use `x += 1` or `x -= 1` in Python.\n",
    "\n",
    "### Quick Assignment 15:\n",
    "\n",
    "1. Initialize a `number` variable with the value 10.\n",
    "2. Use a compound assignment operator to subtract 5 from `number`.\n",
    "3. Use another compound assignment operator to multiply `number` by 3.\n",
    "4. Print the result. What value did you get?"
   ]
  },
  {
   "cell_type": "code",
   "execution_count": null,
   "metadata": {},
   "outputs": [],
   "source": []
  },
  {
   "cell_type": "markdown",
   "metadata": {},
   "source": [
    "---\n",
    "\n",
    "## Conclusion\n",
    "\n",
    "These are just a few examples of the operations you can perform with numbers in Python. By using these operators creatively and strategically, you can solve mathematical calculations and build complex algorithms in your programs."
   ]
  },
  {
   "cell_type": "markdown",
   "metadata": {},
   "source": [
    "---\n",
    "\n",
    "## Additional Resources"
   ]
  },
  {
   "cell_type": "markdown",
   "metadata": {},
   "source": [
    "- More exercises at [LearnPython.org](https://www.learnpython.org/en/Basic_Operators)\n",
    "- Official [Python Reference](https://docs.python.org/3/library/stdtypes.html#numeric-types-int-float-complex).\n",
    "- [RealPython](https://realpython.com/python-operators-expressions/) has also very comprehensive material, but it crosses with our next topic."
   ]
  }
 ],
 "metadata": {
  "kernelspec": {
   "display_name": "venv",
   "language": "python",
   "name": "python3"
  },
  "language_info": {
   "codemirror_mode": {
    "name": "ipython",
    "version": 3
   },
   "file_extension": ".py",
   "mimetype": "text/x-python",
   "name": "python",
   "nbconvert_exporter": "python",
   "pygments_lexer": "ipython3",
   "version": "3.11.7"
  },
  "orig_nbformat": 4
 },
 "nbformat": 4,
 "nbformat_minor": 2
}
