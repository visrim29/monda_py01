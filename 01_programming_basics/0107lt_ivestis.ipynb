{
 "cells": [
  {
   "cell_type": "markdown",
   "metadata": {},
   "source": [
    "# Pirmoji pilna Python programa"
   ]
  },
  {
   "cell_type": "markdown",
   "metadata": {},
   "source": [
    "Jau beveik žinote pakankamai, kad galėtumėte parašyti pilną programą. Liko tik vartotojo įvestis, ir kintamojo tipo konvertavimas. Dabar mes juos ir išmoksime."
   ]
  },
  {
   "cell_type": "markdown",
   "metadata": {},
   "source": [
    "---\n",
    "\n",
    "## Vartotojo ivestis Python kalboje"
   ]
  },
  {
   "cell_type": "markdown",
   "metadata": {},
   "source": [
    "`input()` Funkcija leidžia programai paklausti vartotojo įvesties, ir tada grąžina tą įvestį kaip eilutę (string). \n",
    "\n",
    "**Sintaksė**:\n",
    "```python\n",
    "input(užklausa)\n",
    "```\n",
    "- `užklausa` (neprivaloma): Eilutė, kuri reprezentuoja numatytąjį pranešimą prieš įvestį.\n",
    "\n",
    "**Pavizdys**: Jei paleisite kodą, jums bus paprašyta įvesti savo vardą. Pateikus įvestį ir paspaudus \"Enter\", programa pasveikins jus naudodama vardą, kurį įvedėte."
   ]
  },
  {
   "cell_type": "code",
   "execution_count": 1,
   "metadata": {},
   "outputs": [
    {
     "name": "stdout",
     "output_type": "stream",
     "text": [
      "Labas, Rimai!\n"
     ]
    }
   ],
   "source": [
    "name = input(\"Prašome ivesti savo vardą: \")\n",
    "print(f\"Labas, {name}!\")"
   ]
  },
  {
   "cell_type": "markdown",
   "metadata": {},
   "source": [
    "### Greita užduotis 1\n",
    "\n",
    "Parašykite mažą programą, kuri:\n",
    "1. Paklausia vartotojo apie jų mėgstamiausią `spalvą`.\n",
    "2. Paklausia vartotojo `skaičiaus`.\n",
    "3. Atspausdina teiginį, sakydama, \"Tavo mėgstama spalva yra spalva ir tavo mėgstamas skaičius yra skaičius.\""
   ]
  },
  {
   "cell_type": "code",
   "execution_count": 2,
   "metadata": {},
   "outputs": [
    {
     "name": "stdout",
     "output_type": "stream",
     "text": [
      "Tavo mėgstama spalva yra Žalia ir tavo mėgstamas skaičius yra 8.\n"
     ]
    }
   ],
   "source": [
    "spalva = input('Prašome įvesti savo mėgstamą spalvą: ')\n",
    "skaicius = input('Prašome įvesti savo mėgstamą skaičių: ')\n",
    "print(f\"Tavo mėgstama spalva yra {spalva} ir tavo mėgstamas skaičius yra {skaicius}.\")"
   ]
  },
  {
   "cell_type": "markdown",
   "metadata": {},
   "source": [
    "**Išvesties tipas**: `input()` Funkcija visada grąžina duomenis kaip eilutę (string). Jei norite naudoti šiuos duomenis kaip kitą tipą (pavyzdžiui, sveikąjį skaičių ar slankiojo kablelio skaičių), turėsite konvertuoti juos naudojant tipų keitimo funkcijas, pvz., int() arba float()."
   ]
  },
  {
   "cell_type": "code",
   "execution_count": 3,
   "metadata": {},
   "outputs": [
    {
     "name": "stdout",
     "output_type": "stream",
     "text": [
      "Po 10 metų jums bus 39 metų amžiaus.\n"
     ]
    }
   ],
   "source": [
    "amžius = input(\"Prašome įvesti savo amžių: \")\n",
    "amžius = int(amžius) # Konvertuoti eilutę į sveikąjį skaičių\n",
    "print(f\"Po 10 metų jums bus {amžius + 10} metų amžiaus.\")"
   ]
  },
  {
   "cell_type": "code",
   "execution_count": 4,
   "metadata": {},
   "outputs": [
    {
     "name": "stdout",
     "output_type": "stream",
     "text": [
      "Po 10 metų jums bus 39 metų amžiaus.\n"
     ]
    }
   ],
   "source": [
    "amžius = int(input(\"Prašome įvesti savo amžių: \"))\n",
    "print(f\"Po 10 metų jums bus {amžius + 10} metų amžiaus.\")"
   ]
  },
  {
   "cell_type": "markdown",
   "metadata": {},
   "source": [
    "**Saugumo rūpestis**: Būkite atsargūs naudojant `input()` funkciją, ypač jei ketinate naudoti įvestus duomenis bet kokiame kodo vykdyme ar duomenų bazės užklausose. Netinkamai tvarkant šiuos duomenis gali kilti kodo įterpimo atakos rizika."
   ]
  },
  {
   "cell_type": "markdown",
   "metadata": {},
   "source": [
    "### Greita užduotis 2\n",
    "\n",
    "Parašykite paprastą programą, kuri surenka vartotojo ivestį ir iš jos išveda rezultatą. Būkite kūrybingi!"
   ]
  },
  {
   "cell_type": "code",
   "execution_count": 14,
   "metadata": {},
   "outputs": [
    {
     "name": "stdout",
     "output_type": "stream",
     "text": [
      "Pasitikrinkite ar šią savaitę miegojote optimalų laiko kiekį!\n",
      "Atsakykite kiek valandų (suapvalinus) miegojote:\n",
      "Šią savaitę miegojote optimalų laiko kiekį bei vidutiniškai <class 'int'> val. per sav.\n"
     ]
    }
   ],
   "source": [
    "print('Pasitikrinkite ar šią savaitę miegojote optimalų laiko kiekį!\\nAtsakykite kiek valandų (suapvalinus) miegojote:')\n",
    "diena1 = int(input('Pirmadienį?'))\n",
    "diena2 = int(input('Antradienį?'))\n",
    "diena3 = int(input('Trečiadienį?'))\n",
    "diena4 = int(input('Ketvirtadienį?'))\n",
    "diena5 = int(input('Penktadienį?'))\n",
    "diena6 = int(input('Šeštadienį?'))\n",
    "diena7 = int(input('Sekmadienį?'))\n",
    "vidurkis = (diena1 + diena2 + diena3 + diena4 + diena5 + diena6 + diena7) / 7\n",
    "if 49 <= (diena1 + diena2 + diena3 + diena4 + diena5 + diena6 + diena7) <= 63:\n",
    "    print('Šią savaitę miegojote optimalų laiko kiekį. Vidutiniškai', vidurkis, 'val. per sav.')\n",
    "elif 49 >= (diena1 + diena2 + diena3 + diena4 + diena5 + diena6 + diena7):\n",
    "    print('Šią savaitę miegojote mažiau nei rekomenduojama. Vidutiniškai', vidurkis, 'val. per sav.')\n",
    "elif 65 <= (diena1 + diena2 + diena3 + diena4 + diena5 + diena6 + diena7):\n",
    "    print('Šią savaitę miegojote daugiau nei rekomenduojama. Vidutiniškai', vidurkis, 'val. per sav.')\n",
    "else:\n",
    "    print('KLAIDA! Prašome įvesti natūralųjį skaičių!')"
   ]
  },
  {
   "cell_type": "markdown",
   "metadata": {},
   "source": [
    "---\n",
    "\n",
    "## Išvada"
   ]
  },
  {
   "cell_type": "markdown",
   "metadata": {},
   "source": [
    "`input()` Funkcija yra esminė, norint padaryti savo Python programą interaktyvia. Tai užpildo spragą tarp vartotojo ir mašinos, leidžiant dinamiškiems programos veiksmams pagrįsti vartotojo įvestimi. Taigi dabar jūs turite galimybę parašyti paprastą programą, kuri paprašo vartotojo įvesties ir atlieka sąveiką su įvestimi. Taigi tai puikus momentas pradėti kurti kodą. Būkite kūrybingi."
   ]
  },
  {
   "cell_type": "markdown",
   "metadata": {},
   "source": [
    "---\n",
    "\n",
    "## Užduotis 1"
   ]
  },
  {
   "cell_type": "markdown",
   "metadata": {},
   "source": [
    "Parašykite pilna Python programa (`skaičiuotuvas.py`) - paprastas python skaičiuotuvas kuris:\n",
    "- paklausia vartotojo, kokį veiksmą jis planuoja atlikti\n",
    "- surenka du skaičius\n",
    "- atlieka pasirinkta operaciją su ivestai dviem skaičiais. Nepamirškite konvertuoti ivesties reikiama tipa.\n",
    "Rekomenduojama naudoti `if ... elif ... else` logika operaciju patikrinimui."
   ]
  },
  {
   "cell_type": "code",
   "execution_count": 4,
   "metadata": {},
   "outputs": [
    {
     "name": "stderr",
     "output_type": "stream",
     "text": [
      "<>:8: SyntaxWarning: 'str' object is not callable; perhaps you missed a comma?\n",
      "<>:8: SyntaxWarning: 'str' object is not callable; perhaps you missed a comma?\n"
     ]
    },
    {
     "name": "stdout",
     "output_type": "stream",
     "text": [
      "SKAIČIUOTUVAS\n",
      "0\n"
     ]
    },
    {
     "name": "stderr",
     "output_type": "stream",
     "text": [
      "C:\\Users\\rvisa\\AppData\\Local\\Temp\\ipykernel_7592\\4091903741.py:8: SyntaxWarning: 'str' object is not callable; perhaps you missed a comma?\n",
      "  print(f'{skaicius1} + {skaicius2} =' (sudetis))\n"
     ]
    },
    {
     "ename": "TypeError",
     "evalue": "'str' object is not callable",
     "output_type": "error",
     "traceback": [
      "\u001b[1;31m---------------------------------------------------------------------------\u001b[0m",
      "\u001b[1;31mTypeError\u001b[0m                                 Traceback (most recent call last)",
      "Cell \u001b[1;32mIn[4], line 8\u001b[0m\n\u001b[0;32m      6\u001b[0m \u001b[38;5;28mprint\u001b[39m(veiksmas\u001b[38;5;241m.\u001b[39mfind(\u001b[38;5;124m'\u001b[39m\u001b[38;5;124m+\u001b[39m\u001b[38;5;124m'\u001b[39m))\n\u001b[0;32m      7\u001b[0m \u001b[38;5;28;01mif\u001b[39;00m veiksmas \u001b[38;5;241m==\u001b[39m \u001b[38;5;124m'\u001b[39m\u001b[38;5;124m+\u001b[39m\u001b[38;5;124m'\u001b[39m:\n\u001b[1;32m----> 8\u001b[0m     \u001b[38;5;28mprint\u001b[39m(\u001b[38;5;124;43mf\u001b[39;49m\u001b[38;5;124;43m'\u001b[39;49m\u001b[38;5;132;43;01m{\u001b[39;49;00m\u001b[43mskaicius1\u001b[49m\u001b[38;5;132;43;01m}\u001b[39;49;00m\u001b[38;5;124;43m + \u001b[39;49m\u001b[38;5;132;43;01m{\u001b[39;49;00m\u001b[43mskaicius2\u001b[49m\u001b[38;5;132;43;01m}\u001b[39;49;00m\u001b[38;5;124;43m =\u001b[39;49m\u001b[38;5;124;43m'\u001b[39;49m\u001b[43m \u001b[49m\u001b[43m(\u001b[49m\u001b[43msudetis\u001b[49m\u001b[43m)\u001b[49m)\n\u001b[0;32m      9\u001b[0m \u001b[38;5;28;01melse\u001b[39;00m:\n\u001b[0;32m     10\u001b[0m     \u001b[38;5;28mprint\u001b[39m(\u001b[38;5;124m'\u001b[39m\u001b[38;5;124mKlaida\u001b[39m\u001b[38;5;124m'\u001b[39m)\n",
      "\u001b[1;31mTypeError\u001b[0m: 'str' object is not callable"
     ]
    }
   ],
   "source": [
    "print('SKAIČIUOTUVAS')\n",
    "veiksmas = (input('Kokį veiksmą planuojate atlikti?'))\n",
    "skaicius1 = int(input('Prašome pasirinkti pirmą skaičių (Skaičius turi būti natūralusis)'))\n",
    "skaicius2 = int(input('Prašome pasirinkti antrą skaičių (Skaičius turi būti natūralusis)'))\n",
    "sudetis = f{skaicius1} + {skaicius2}\n",
    "print(veiksmas.find('+'))\n",
    "if veiksmas == '+':\n",
    "    print(f'{skaicius1} + {skaicius2} =' (sudetis))\n",
    "else:\n",
    "    print('Klaida')"
   ]
  },
  {
   "cell_type": "markdown",
   "metadata": {},
   "source": [
    "## Užduotis 2\n",
    "\n",
    "Galite bandyti įvykdyti aukščiau pateiktą užduotį naudodami vieną įvestį ir perduoti ją funkcijai eval() ir išspausdinti rezultatą.\n",
    "Tačiau tokia programa nebūtų saugi, nes vartotojas galėtų vykdyti nepageidaujamą Python kodą, o ne tik paprastą matematikos operaciją.\n",
    "Paeksperimentuokite."
   ]
  },
  {
   "cell_type": "markdown",
   "metadata": {},
   "source": [
    "## Užduotis 3\n",
    "\n",
    "Parašykite programa, kuri surenka vartotojo ivestį ir iš jos išveda rezultatą. Būkite kūrybingi!"
   ]
  }
 ],
 "metadata": {
  "kernelspec": {
   "display_name": "venv",
   "language": "python",
   "name": "python3"
  },
  "language_info": {
   "codemirror_mode": {
    "name": "ipython",
    "version": 3
   },
   "file_extension": ".py",
   "mimetype": "text/x-python",
   "name": "python",
   "nbconvert_exporter": "python",
   "pygments_lexer": "ipython3",
   "version": "3.11.7"
  },
  "orig_nbformat": 4
 },
 "nbformat": 4,
 "nbformat_minor": 2
}
