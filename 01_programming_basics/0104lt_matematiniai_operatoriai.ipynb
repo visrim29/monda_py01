{
 "cells": [
  {
   "cell_type": "markdown",
   "metadata": {},
   "source": [
    "# Matematiniai operatoriai"
   ]
  },
  {
   "cell_type": "markdown",
   "metadata": {},
   "source": [
    "Python kalboje, galima atlikti matematinius veiksmus, tokius kaip, sudėtį, atimtį, daugybą, dalybą, ir kitus. Panagrinėkime matematinius operatorius pythone.\n",
    "\n",
    "---"
   ]
  },
  {
   "cell_type": "markdown",
   "metadata": {},
   "source": [
    "## Sudėtis `+`\n",
    "\n",
    "Sudėties operatorius leidžia sudėti kelis ar daugiau skaičius."
   ]
  },
  {
   "cell_type": "code",
   "execution_count": 1,
   "metadata": {},
   "outputs": [
    {
     "name": "stdout",
     "output_type": "stream",
     "text": [
      "8\n"
     ]
    }
   ],
   "source": [
    "rezultatas = 5 + 3\n",
    "print(rezultatas)"
   ]
  },
  {
   "cell_type": "code",
   "execution_count": 2,
   "metadata": {},
   "outputs": [
    {
     "name": "stdout",
     "output_type": "stream",
     "text": [
      "42\n"
     ]
    }
   ],
   "source": [
    "rezultatas = 7 + 9 + 11 + 8 + 7\n",
    "print(rezultatas)"
   ]
  },
  {
   "cell_type": "markdown",
   "metadata": {},
   "source": [
    "### Greita užduotis 1:\n",
    "Sudėkite kelis skaičius ir išveskite rezultatą"
   ]
  },
  {
   "cell_type": "code",
   "execution_count": 1,
   "metadata": {},
   "outputs": [
    {
     "name": "stdout",
     "output_type": "stream",
     "text": [
      "96\n"
     ]
    }
   ],
   "source": [
    "rezultatas = 8 + 88\n",
    "print(rezultatas)"
   ]
  },
  {
   "cell_type": "markdown",
   "metadata": {},
   "source": [
    "### Greita užduotis 2\n",
    "\n",
    "Sukurkite kelis skaičių kintamuosius, sudėkite juos, ir pridėkite 5 prie rezultato. Galiausiai išveskite rezultatą."
   ]
  },
  {
   "cell_type": "code",
   "execution_count": 7,
   "metadata": {},
   "outputs": [
    {
     "name": "stdout",
     "output_type": "stream",
     "text": [
      "101\n"
     ]
    }
   ],
   "source": [
    "skaicius1 = 8\n",
    "skaicius2 = 88\n",
    "rezultatas= skaicius1 + skaicius2 + 5\n",
    "print(rezultatas)"
   ]
  },
  {
   "cell_type": "markdown",
   "metadata": {},
   "source": [
    "---\n",
    "\n",
    "## Atimtis `-`\n",
    "\n",
    "Atimties operatorius, leidžia atimti skaičiu"
   ]
  },
  {
   "cell_type": "code",
   "execution_count": 3,
   "metadata": {},
   "outputs": [
    {
     "name": "stdout",
     "output_type": "stream",
     "text": [
      "3\n"
     ]
    }
   ],
   "source": [
    "rezultatas = 10 - 7\n",
    "print(rezultatas)"
   ]
  },
  {
   "cell_type": "markdown",
   "metadata": {},
   "source": [
    "Taip pat galima atimti daugiau nei vieną skaičių, panašiai kaip su sudėtim:"
   ]
  },
  {
   "cell_type": "code",
   "execution_count": 4,
   "metadata": {},
   "outputs": [
    {
     "name": "stdout",
     "output_type": "stream",
     "text": [
      "0\n"
     ]
    }
   ],
   "source": [
    "rezultatas = 6 - 3 - 2 - 1\n",
    "print(rezultatas)"
   ]
  },
  {
   "cell_type": "markdown",
   "metadata": {},
   "source": [
    "### Greita užduotis 3\n",
    "\n",
    "Atimkite skaičių iš kito skaičiaus ir atspausdinkite rezultatą (terminale)"
   ]
  },
  {
   "cell_type": "code",
   "execution_count": 9,
   "metadata": {},
   "outputs": [
    {
     "name": "stdout",
     "output_type": "stream",
     "text": [
      "80\n"
     ]
    }
   ],
   "source": [
    "atimtis = 88 - 8\n",
    "print(atimtis)"
   ]
  },
  {
   "cell_type": "markdown",
   "metadata": {},
   "source": [
    "### Greita užduotis 4\n",
    "\n",
    "Sukurkite kelis skaičių kintamuosius, atspausdinkite ju skirtumą."
   ]
  },
  {
   "cell_type": "code",
   "execution_count": 10,
   "metadata": {},
   "outputs": [
    {
     "name": "stdout",
     "output_type": "stream",
     "text": [
      "792\n"
     ]
    }
   ],
   "source": [
    "skaicius1 = 888\n",
    "skaicius2 = 88\n",
    "skaicius3 = 8\n",
    "skirtumas = skaicius1 - skaicius2 - skaicius3\n",
    "print(skirtumas)"
   ]
  },
  {
   "cell_type": "markdown",
   "metadata": {},
   "source": [
    "---\n",
    "\n",
    "## Daugyba `*`\n",
    "\n",
    "Daugybos operatorius sudaugina kelis ar daugiau skaičius."
   ]
  },
  {
   "cell_type": "code",
   "execution_count": 5,
   "metadata": {},
   "outputs": [
    {
     "name": "stdout",
     "output_type": "stream",
     "text": [
      "8\n"
     ]
    }
   ],
   "source": [
    "rezultatas = 4 * 2\n",
    "print(rezultatas)"
   ]
  },
  {
   "cell_type": "code",
   "execution_count": 6,
   "metadata": {},
   "outputs": [
    {
     "name": "stdout",
     "output_type": "stream",
     "text": [
      "16\n"
     ]
    }
   ],
   "source": [
    "rezultatas = 2 * 2 * 2 * 2\n",
    "print(rezultatas)"
   ]
  },
  {
   "cell_type": "markdown",
   "metadata": {},
   "source": [
    "### Greita užduotis 5\n",
    "\n",
    "Sudauginkite kelis skaičius ir atspaudinkite rezultatą"
   ]
  },
  {
   "cell_type": "code",
   "execution_count": 11,
   "metadata": {},
   "outputs": [
    {
     "name": "stdout",
     "output_type": "stream",
     "text": [
      "704\n"
     ]
    }
   ],
   "source": [
    "rezultatas = 8 * 88\n",
    "print(rezultatas)"
   ]
  },
  {
   "cell_type": "markdown",
   "metadata": {},
   "source": [
    "### Greita užduotis 6\n",
    "\n",
    "sukurkite skaičiaus kintamajį, padauginkite kintamajį iš 10 dukart ir atspausdinkite rezultatą"
   ]
  },
  {
   "cell_type": "code",
   "execution_count": 14,
   "metadata": {},
   "outputs": [
    {
     "name": "stdout",
     "output_type": "stream",
     "text": [
      "800\n",
      "64\n"
     ]
    }
   ],
   "source": [
    "skaicius = 8\n",
    "print(skaicius * 10 * 10)"
   ]
  },
  {
   "cell_type": "markdown",
   "metadata": {},
   "source": [
    "---\n",
    "\n",
    "## Dalyba `/` ir dalyba su apvalinimu žemyn `//`\n",
    "\n",
    "Dalybos operatorius `/` dalina skaičiu iš kito skaičiaus."
   ]
  },
  {
   "cell_type": "code",
   "execution_count": 7,
   "metadata": {},
   "outputs": [
    {
     "name": "stdout",
     "output_type": "stream",
     "text": [
      "2.0\n"
     ]
    }
   ],
   "source": [
    "sveikasis_rezultatas = 10 / 5\n",
    "print(sveikasis_rezultatas)"
   ]
  },
  {
   "cell_type": "code",
   "execution_count": 8,
   "metadata": {},
   "outputs": [
    {
     "name": "stdout",
     "output_type": "stream",
     "text": [
      "3.3333333333333335\n"
     ]
    }
   ],
   "source": [
    "racionalusis_rezultatas = 10 / 3\n",
    "print(racionalusis_rezultatas)"
   ]
  },
  {
   "cell_type": "markdown",
   "metadata": {},
   "source": [
    "Atkreipkite dėmesį, kad aukščiau pateikto rezultato tipas visada yra slankiojo kablelio skaičius (float), net jei dalinami du sveikieji skaičiai, ir net jei gauta reikšmė yra sveikasis skaičius."
   ]
  },
  {
   "cell_type": "code",
   "execution_count": 9,
   "metadata": {},
   "outputs": [
    {
     "name": "stdout",
     "output_type": "stream",
     "text": [
      "<class 'float'>\n"
     ]
    }
   ],
   "source": [
    "print(type(sveikasis_rezultatas))"
   ]
  },
  {
   "cell_type": "markdown",
   "metadata": {},
   "source": [
    "dalybos su apvalinimu žemyn operatorius `//` dalina du skaičius, atmetant bet kokia dalį po kablelio, ir išveda sveikajį skaičių (int) kaip rezultata. rezultatas visada apvalinamas žemyn."
   ]
  },
  {
   "cell_type": "code",
   "execution_count": 15,
   "metadata": {},
   "outputs": [
    {
     "name": "stdout",
     "output_type": "stream",
     "text": [
      "3 <class 'int'>\n"
     ]
    }
   ],
   "source": [
    "sveikasis_rezultatas = 10 // 3\n",
    "print(sveikasis_rezultatas, type(sveikasis_rezultatas))"
   ]
  },
  {
   "cell_type": "code",
   "execution_count": 11,
   "metadata": {},
   "outputs": [
    {
     "name": "stdout",
     "output_type": "stream",
     "text": [
      "3\n"
     ]
    }
   ],
   "source": [
    "print(11 // 3)"
   ]
  },
  {
   "cell_type": "markdown",
   "metadata": {},
   "source": [
    "### Greita užduotis 7\n",
    "\n",
    "Padalinkite skaičiu iš betkokio kito skaičiaus, išskyrus 0, ir atspausdinkite rezultatą"
   ]
  },
  {
   "cell_type": "code",
   "execution_count": 17,
   "metadata": {},
   "outputs": [
    {
     "name": "stdout",
     "output_type": "stream",
     "text": [
      "11.0\n"
     ]
    }
   ],
   "source": [
    "print(88 / 8)"
   ]
  },
  {
   "cell_type": "markdown",
   "metadata": {},
   "source": [
    "### Greita užduotis 8\n",
    "\n",
    "Sukurkite du skaičiaus tipo kintamuosius ir padalinkite juos. Atspausdinkite rezultatą. Gautą rezultatą padalinkite dar kartą ir vėl atspausdinkite naujai gautą rezultatą."
   ]
  },
  {
   "cell_type": "code",
   "execution_count": 23,
   "metadata": {},
   "outputs": [
    {
     "name": "stdout",
     "output_type": "stream",
     "text": [
      "11.0\n",
      "10.00900900900901\n"
     ]
    }
   ],
   "source": [
    "num1 = 88\n",
    "num2 = 8\n",
    "print(num1 / num2)\n",
    "num3 = 8888\n",
    "num4 = 888\n",
    "print(num3 / num4)"
   ]
  },
  {
   "cell_type": "markdown",
   "metadata": {},
   "source": [
    "### Greita užduotis 9\n",
    "\n",
    "Padalinkite 100 iš 3 dukart naudodami dalybos su apvalinimu žemyn operatoriu ir atspausdinkite rezultatą."
   ]
  },
  {
   "cell_type": "code",
   "execution_count": 22,
   "metadata": {},
   "outputs": [
    {
     "name": "stdout",
     "output_type": "stream",
     "text": [
      "11\n"
     ]
    }
   ],
   "source": [
    "num1 = 100 // 3 // 3\n",
    "print(num1)"
   ]
  },
  {
   "cell_type": "markdown",
   "metadata": {},
   "source": [
    "---\n",
    "\n",
    "## Modulis (liekana) `%`\n",
    "\n",
    "Modulio operatorius `%` suskaičiuoja dalybos liekaną tarp dviejų skaičių."
   ]
  },
  {
   "cell_type": "code",
   "execution_count": 12,
   "metadata": {},
   "outputs": [
    {
     "name": "stdout",
     "output_type": "stream",
     "text": [
      "1\n"
     ]
    }
   ],
   "source": [
    "rezultatas = 10 % 3\n",
    "print(rezultatas)"
   ]
  },
  {
   "cell_type": "markdown",
   "metadata": {},
   "source": [
    "### Greita užduotis 10\n",
    "\n",
    "Sukurkite skaičiaus kintamajį, ir atspausdinkite likuti, kai daliname ta skaičiu iš 5."
   ]
  },
  {
   "cell_type": "code",
   "execution_count": 25,
   "metadata": {},
   "outputs": [
    {
     "name": "stdout",
     "output_type": "stream",
     "text": [
      "3\n"
     ]
    }
   ],
   "source": [
    "num1 = 88\n",
    "print(num1 % 5)"
   ]
  },
  {
   "cell_type": "markdown",
   "metadata": {},
   "source": [
    "---\n",
    "\n",
    "## Kelimas laipsniu `**`\n",
    "\n",
    "Laipsnio operatorius kelia skaičių laipsniu kitu skaičiumi."
   ]
  },
  {
   "cell_type": "code",
   "execution_count": 13,
   "metadata": {},
   "outputs": [
    {
     "name": "stdout",
     "output_type": "stream",
     "text": [
      "8\n"
     ]
    }
   ],
   "source": [
    "rezultatas = 2 ** 3\n",
    "print(rezultatas)"
   ]
  },
  {
   "cell_type": "code",
   "execution_count": 14,
   "metadata": {},
   "outputs": [
    {
     "name": "stdout",
     "output_type": "stream",
     "text": [
      "1024\n"
     ]
    }
   ],
   "source": [
    "rezultatas = 2 ** 10\n",
    "print(rezultatas)"
   ]
  },
  {
   "cell_type": "markdown",
   "metadata": {},
   "source": [
    "### Greita užduotis 11\n",
    "\n",
    "Atspausdinkite 17 pakelta kubu"
   ]
  },
  {
   "cell_type": "code",
   "execution_count": 27,
   "metadata": {},
   "outputs": [
    {
     "name": "stdout",
     "output_type": "stream",
     "text": [
      "4913\n"
     ]
    },
    {
     "data": {
      "text/plain": [
       "4913"
      ]
     },
     "execution_count": 27,
     "metadata": {},
     "output_type": "execute_result"
    }
   ],
   "source": [
    "result = 17 ** 3\n",
    "print(result)\n",
    "17 ** 3"
   ]
  },
  {
   "cell_type": "markdown",
   "metadata": {},
   "source": [
    "Vertėtų pastebėti, kad yra galimybė pakelti skaičių laipsniu, kuris yra trupmeninis. Pavyzdžiui, pakėlus laipsniu 0,5, galima gauti skaičiaus šaknį kvadratu."
   ]
  },
  {
   "cell_type": "code",
   "execution_count": 15,
   "metadata": {},
   "outputs": [
    {
     "name": "stdout",
     "output_type": "stream",
     "text": [
      "6.0\n"
     ]
    }
   ],
   "source": [
    "šaknis = 36 ** 0.5\n",
    "print(šaknis)"
   ]
  },
  {
   "cell_type": "code",
   "execution_count": 16,
   "metadata": {},
   "outputs": [
    {
     "name": "stdout",
     "output_type": "stream",
     "text": [
      "3.0\n"
     ]
    }
   ],
   "source": [
    "kubine = 27 ** (1/3)\n",
    "print(kubine)"
   ]
  },
  {
   "cell_type": "markdown",
   "metadata": {},
   "source": [
    "### Greita užduotis 12\n",
    "\n",
    "Atspausdinkite šaknį iš 25. Taip pat atspausdinkite gauto rezultato tipa."
   ]
  },
  {
   "cell_type": "code",
   "execution_count": 28,
   "metadata": {},
   "outputs": [
    {
     "name": "stdout",
     "output_type": "stream",
     "text": [
      "5.0\n",
      "float\n"
     ]
    }
   ],
   "source": [
    "saknis = 25 ** 0.5\n",
    "print(saknis)\n",
    "print(type(saknis).__name__)"
   ]
  },
  {
   "cell_type": "markdown",
   "metadata": {},
   "source": [
    "---\n",
    "\n",
    "## Operatorių prioritetas ir prioriteto valdymas"
   ]
  },
  {
   "cell_type": "markdown",
   "metadata": {},
   "source": [
    "Operatorių vykdymo tvarka, taip pat vadinama operatorių prioritetas, nustato seką, kuria skirtingi operatoriai yra įvertinami išraiškoje. Prioritetas yra svarbus, nes jis daro įtaką išraiškose, kuriose dalyvauja kelios operacijos, rezultatui ir tikslumui.\n",
    "\n",
    "Python kalboje operatorių prioritetas seka tam tikrą tvarką:\n",
    "\n",
    "1. Skliaustai: Išraiškos skliaustuose vertinamos pirmiausia. Tai leidžia jums suteikti pirmenybę tam tikriems skaičiavimams arba aiškiai nurodyti operacijų vykdymo tvarką.\n",
    "2. Laipsnio pakėlimas: Toliau yra vertinamas operatorius **. Jis pakelia kairėje esantį skaičių laipsniu, nurodytu dešinėje esančiu skaičiumi.\n",
    "3. Daugyba, dalyba ir dalyba su apvalinimu žemyn: Operatoriai *, / ir // yra vertinami nuo kairės į dešinę pagal jų pasirodymą išraiškoje.\n",
    "4. Sudėtis ir Atimtis: Operatoriai + ir - yra vertinami nuo kairės į dešinę pagal jų pasirodymą išraiškoje.\n",
    "\n",
    "Svarbu turėti galvoje šią vykdymo tvarką, rašant sudėtingas išraiškas, kad užtikrintumėte, jog operacijos būtų atliekamos teisingai. Tačiau jei norite pakeisti numatytąją tvarką, galite naudoti skliaustus, kad aiškiai nurodytumėte norimą vertinimo seką.\n",
    "\n",
    "Pavyzdžiui:"
   ]
  },
  {
   "cell_type": "code",
   "execution_count": 17,
   "metadata": {},
   "outputs": [
    {
     "name": "stdout",
     "output_type": "stream",
     "text": [
      "14\n"
     ]
    }
   ],
   "source": [
    "rezultatas = 2 + 3 * 4\n",
    "print(rezultatas)"
   ]
  },
  {
   "cell_type": "markdown",
   "metadata": {},
   "source": [
    "Šiuo atveju, nors sudėtis atliekama prieš daugybą, daugyba turi didesnį prioritetą. Todėl Python pirmiausia įvertina 3 * 4, o tada prideda 2 prie rezultato.\n",
    "\n",
    "Kad užtikrintumėte, jog sudėtis būtų atlikta prieš daugybą, galite naudoti skliaustus:"
   ]
  },
  {
   "cell_type": "code",
   "execution_count": 18,
   "metadata": {},
   "outputs": [
    {
     "name": "stdout",
     "output_type": "stream",
     "text": [
      "20\n"
     ]
    }
   ],
   "source": [
    "rezultatas = (2 + 3) * 4\n",
    "print(rezultatas)"
   ]
  },
  {
   "cell_type": "markdown",
   "metadata": {},
   "source": [
    "Dabar, išraiška skliaustuose (2 + 3) yra įvertinta pirmiausia, rezultatas yra 5. Tada Python atlieka daugybą su 4 ir gauna rezultatą 20."
   ]
  },
  {
   "cell_type": "markdown",
   "metadata": {},
   "source": [
    "### Greita užduotis 13\n",
    "\n",
    "Tarkime, praleidote valandą vaikščiodami 5 km, tada dar valandą nuvažiuodami autobusu 30 km, ir paskui pusvalandį vėl ėję 3 km. Atspausdinkite savo vidutinį greitį."
   ]
  },
  {
   "cell_type": "code",
   "execution_count": 30,
   "metadata": {},
   "outputs": [
    {
     "name": "stdout",
     "output_type": "stream",
     "text": [
      "15.2\n"
     ]
    }
   ],
   "source": [
    "walk1 = 5\n",
    "walk2 = 3\n",
    "bus = 30\n",
    "averagespeed = (walk1 + walk2 + bus) / 2.5\n",
    "print(averagespeed)"
   ]
  },
  {
   "cell_type": "markdown",
   "metadata": {},
   "source": [
    "Atlikite šį uždavinį kiek įmanoma optimizuotai vienoje eilutėje."
   ]
  },
  {
   "cell_type": "code",
   "execution_count": 31,
   "metadata": {},
   "outputs": [
    {
     "name": "stdout",
     "output_type": "stream",
     "text": [
      "15.2\n"
     ]
    }
   ],
   "source": [
    "print((5 + 30 + 3) / 2.5)"
   ]
  },
  {
   "cell_type": "markdown",
   "metadata": {},
   "source": [
    "---\n",
    "\n",
    "## Skliaustai skliaustuose"
   ]
  },
  {
   "cell_type": "markdown",
   "metadata": {},
   "source": [
    "naudojant skliaustus skliaustuose `( )` leidžia jums valdyti operacijų vykdymo tvarką ir atlikti skaičiavimus konkrečiose grupėse. Pavyzdžiui:"
   ]
  },
  {
   "cell_type": "code",
   "execution_count": 19,
   "metadata": {},
   "outputs": [
    {
     "name": "stdout",
     "output_type": "stream",
     "text": [
      "6\n"
     ]
    }
   ],
   "source": [
    "rezultatas = (10 + 2) * (4 - 1) // ((2 + 1) * 2)\n",
    "print(rezultatas)"
   ]
  },
  {
   "cell_type": "markdown",
   "metadata": {},
   "source": [
    "### Greita užduotis 14\n",
    "\n",
    "Sukurkite sudėtingą matematine išraiską, naudodami skirtingus matematinius operatorius ir skliaustus skliaustuose, panaudomi savo vaizduote :) Fizikos uždavinys butu idealiausias."
   ]
  },
  {
   "cell_type": "code",
   "execution_count": 35,
   "metadata": {},
   "outputs": [
    {
     "name": "stdout",
     "output_type": "stream",
     "text": [
      "884554.1818181818\n"
     ]
    }
   ],
   "source": [
    "sudetinga = ((8+88) ** 3) - (8888-888) / ((11 + 11) * 2) \n",
    "print(sudetinga)"
   ]
  },
  {
   "cell_type": "markdown",
   "metadata": {},
   "source": [
    "---\n",
    "\n",
    "## Sudėtinio priskyrimo operatoriai"
   ]
  },
  {
   "cell_type": "markdown",
   "metadata": {},
   "source": [
    "Sudėtinio priskyrimo operatoriai yra sutrumpinti metodai atlikti veiksmą su kintamojo reikšme ir tada priskirti gautą rezultatą tam pačiam kintamajam. Jie yra naudingi, kai norite modifikuoti kintamojo reikšmę nesirašydami kintamojo pavadinimo dvigubai.\n",
    "\n",
    "Štai išsami apžvalga dažniausiai naudojamų sudėtinio priskyrimo operatorių:\n",
    "\n",
    "| Operatorius | Trumpinys       | Pavyzdys   | Lygiavertė išraiška |\n",
    "|-------------|-----------------|------------|---------------------|\n",
    "| `+=`        | `x = x + y`     | `x += y`   | `x = x + y`         |\n",
    "| `-=`        | `x = x - y`     | `x -= y`   | `x = x - y`         |\n",
    "| `*=`        | `x = x * y`     | `x *= y`   | `x = x * y`         |\n",
    "| `/=`        | `x = x / y`     | `x /= y`   | `x = x / y`         |\n",
    "| `%=`        | `x = x % y`     | `x %= y`   | `x = x % y`         |\n",
    "| `**=`       | `x = x ** y`    | `x **= y`  | `x = x ** y`        |\n",
    "| `//=`       | `x = x // y`    | `x //= y`  | `x = x // y`        |\n",
    "\n",
    "### Pavyzdžiai:"
   ]
  },
  {
   "cell_type": "code",
   "execution_count": 21,
   "metadata": {},
   "outputs": [
    {
     "name": "stdout",
     "output_type": "stream",
     "text": [
      "8\n",
      "16\n"
     ]
    }
   ],
   "source": [
    "x = 5\n",
    "x += 3  # yra lygus x = x + 3\n",
    "print(x)  # Išvestis: 8\n",
    "\n",
    "x *= 2  # yra lygus x = x * 2\n",
    "print(x)  # Išvestis: 16"
   ]
  },
  {
   "cell_type": "markdown",
   "metadata": {},
   "source": [
    "### Greitas paaiškinimas:\n",
    "\n",
    "Python kalboje nėra inkrementavimo (++) ir dekrementavimo (--) operatorių. Jeigu moketės tokias kalbas kaip C, C++, ar Java, tai jum gali pasirodyti keistai. Vietoij `x++` ar `x--`, Python kalboje mes naudojam `x += 1` arba `x -= 1`.\n",
    "\n",
    "### Greita užduotis 15:\n",
    "\n",
    "1. Sukurkite skaičiaus 10 kintamajį .\n",
    "2. Naudokite sudėtinio priskyrimo operatorių, kad iš kintamojo atimtumėte 5.\n",
    "3. Naudokite kitą sudėtinio priskyrimo operatorių, kad kintamaji padaugintumėte iš 3.\n",
    "4. Atspausdinkite rezultatą. Kokią reikšmę gavote?"
   ]
  },
  {
   "cell_type": "code",
   "execution_count": 36,
   "metadata": {},
   "outputs": [
    {
     "name": "stdout",
     "output_type": "stream",
     "text": [
      "15\n"
     ]
    }
   ],
   "source": [
    "num1 = 10\n",
    "num1 -= 5\n",
    "num1 *= 3\n",
    "print(num1)"
   ]
  },
  {
   "cell_type": "markdown",
   "metadata": {},
   "source": [
    "---\n",
    "\n",
    "## Išvada\n",
    "\n",
    "Tai tik keli pavyzdžiai, kaip galite atlikti skaičiavimus su skaičiais naudodami Python kalbą. Kūrybiškai ir strategiškai naudojant šiuos operatorius, galite spręsti matematinius skaičiavimus ir kurti sudėtingus algoritmus savo programose."
   ]
  },
  {
   "cell_type": "markdown",
   "metadata": {},
   "source": [
    "---\n",
    "\n",
    "## Papildomos šaltiniai"
   ]
  },
  {
   "cell_type": "markdown",
   "metadata": {},
   "source": [
    "- Daugiau užduočių [LearnPython.org](https://www.learnpython.org/en/Basic_Operators)\n",
    "- Oficiali [Python dokumentacija](https://docs.python.org/3/library/stdtypes.html#numeric-types-int-float-complex).\n",
    "- [RealPython](https://realpython.com/python-operators-expressions/) taip pat turi labai išsamią medžiagą, bet tai susiję su mūsų sekančia tema."
   ]
  }
 ],
 "metadata": {
  "kernelspec": {
   "display_name": "venv",
   "language": "python",
   "name": "python3"
  },
  "language_info": {
   "codemirror_mode": {
    "name": "ipython",
    "version": 3
   },
   "file_extension": ".py",
   "mimetype": "text/x-python",
   "name": "python",
   "nbconvert_exporter": "python",
   "pygments_lexer": "ipython3",
   "version": "3.11.7"
  },
  "orig_nbformat": 4
 },
 "nbformat": 4,
 "nbformat_minor": 2
}
